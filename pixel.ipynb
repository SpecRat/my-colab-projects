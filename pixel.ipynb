{
  "nbformat": 4,
  "nbformat_minor": 0,
  "metadata": {
    "colab": {
      "name": "pixel.ipynb",
      "provenance": [],
      "collapsed_sections": [],
      "mount_file_id": "11h_2WiBnL9a1SBGd9EoOC7ZH1VF3WPl4",
      "authorship_tag": "ABX9TyNOk49kV7N55RhjO4vof8G1",
      "include_colab_link": true
    },
    "kernelspec": {
      "display_name": "Python 3",
      "name": "python3"
    }
  },
  "cells": [
    {
      "cell_type": "markdown",
      "metadata": {
        "id": "view-in-github",
        "colab_type": "text"
      },
      "source": [
        "<a href=\"https://colab.research.google.com/github/SpecRat/my-colab-projects/blob/main/pixel.ipynb\" target=\"_parent\"><img src=\"https://colab.research.google.com/assets/colab-badge.svg\" alt=\"Open In Colab\"/></a>"
      ]
    },
    {
      "cell_type": "markdown",
      "metadata": {
        "id": "fuCN23hrRDgx"
      },
      "source": [
        "CONTENTS \r\n",
        "* setup https://colab.research.google.com/drive/11h_2WiBnL9a1SBGd9EoOC7ZH1VF3WPl4#scrollTo=7mIUskP49xvW\r\n",
        "* rules\r\n",
        "  * wireworld https://colab.research.google.com/drive/11h_2WiBnL9a1SBGd9EoOC7ZH1VF3WPl4#scrollTo=Ikc9XZb-N6G6\r\n",
        "  * game of life https://colab.research.google.com/drive/11h_2WiBnL9a1SBGd9EoOC7ZH1VF3WPl4#scrollTo=3487GCcgtKtw\r\n",
        "* randomnes https://colab.research.google.com/drive/11h_2WiBnL9a1SBGd9EoOC7ZH1VF3WPl4#scrollTo=3QSsQRdgLGa9"
      ]
    },
    {
      "cell_type": "code",
      "metadata": {
        "id": "7mIUskP49xvW",
        "colab": {
          "base_uri": "https://localhost:8080/",
          "height": 224
        },
        "outputId": "7f8311bf-8e1d-4933-dc2b-c11e45348f3b"
      },
      "source": [
        "import copy\n",
        "from PIL import Image\n",
        "import numpy as np\n",
        "from IPython.display import Javascript\n",
        "\n",
        "#colors based on 16 ansi colors see https://en.wikipedia.org/wiki/ANSI_escape_code#Colors on how to add or change colors.\n",
        "black = \"\\33[40m  \"   #1\n",
        "red = \"\\33[41m  \"     #2\n",
        "green = \"\\33[42m  \"   #3\n",
        "yellow = \"\\33[43m  \"  #4\n",
        "blue = \"\\33[44m  \"    #5\n",
        "purple = \"\\33[45m  \"  #6\n",
        "cyan = \"\\33[46m  \"  #7\n",
        "white = \"\\33[47m  \"   #8\n",
        "gray = \"\\33[100m  \"   #9\n",
        "Lred = \"\\33[101m  \"     #A    \n",
        "Lgreen = \"\\33[102m  \"   #B\n",
        "Lyellow = \"\\33[103m  \"  #C\n",
        "Lblue = \"\\33[104m  \"    #D\n",
        "Lpurple = \"\\33[105m  \"  #E\n",
        "Lcyan = \"\\33[106m  \"  #F\n",
        "Lwhite = \"\\33[107m  \"   #0\n",
        "#grid res\n",
        "Y = 36 #↕ \n",
        "X = 38 #↔ \n",
        "grid = [] #used to define empty grid array TODO impliment numpy or something to ADD WRAP AROUND AND MAKE TORIODAL\n",
        "colors = [black, red, green, yellow, blue, purple, cyan, white, gray,Lred,Lgreen,Lyellow,Lblue,Lpurple,Lcyan,Lwhite] #used for random noise later on\n",
        "lcolors = len(colors) \n",
        "\n",
        "def blankgrid():\n",
        "  '''fill entire grid with black'''\n",
        "  for j in range(Y):\n",
        "    grid.append([])\n",
        "    for k in range(X):\n",
        "      grid[j].append(black)\n",
        "\n",
        "def getvalue(S, i, j):\n",
        "  '''simple work around for outofbounds''' #should be fine for nonwrapping arrays, but id like to impliment wraping,\n",
        "  try:\n",
        "      return S[i][j]\n",
        "  except IndexError:\n",
        "      return black\n",
        "\n",
        "def frameprint(): \n",
        "  '''display grid'''\n",
        "  newline = ''\n",
        "  for i in range(Y):\n",
        "    for j in range(X):\n",
        "      newline = newline + grid[i][j]\n",
        "    print(newline)\n",
        "    newline = ''\n",
        "\n",
        "def checkadjacent(x,y, s,): \n",
        "  '''von neumann(cells adjacent) neighborhood and s can be toggled to add moores(adjacent+corners) neighborhod''' #TODO von neumann extended\n",
        "  adjacent = []\n",
        "  adjacent.append(getvalue(grid, x -1,y))\n",
        "  adjacent.append(getvalue(grid, x, y-1))\n",
        "  adjacent.append(getvalue(grid, x +1,y))\n",
        "  adjacent.append(getvalue(grid, x ,y+1))\n",
        "  if s == \"all\":\n",
        "    adjacent.append(getvalue(grid, x -1, y-1))\n",
        "    adjacent.append(getvalue(grid, x -1, y+1))\n",
        "    adjacent.append(getvalue(grid, x +1, y+1))\n",
        "    adjacent.append(getvalue(grid, x +1, y-1)) \n",
        "    #print(adjacent)\n",
        "  return adjacent\n",
        "  adjacent = []\n",
        "\n",
        "def adjust_font():#!!!set to at least ten for legible error messages!!! \n",
        "  '''set outputbox font size'''\n",
        "  display(Javascript('''\n",
        "  for (rule of document.styleSheets[0].cssRules){\n",
        "    if (rule.selectorText=='body') {\n",
        "      rule.style.fontSize = '7px'\n",
        "      break\n",
        "    }\n",
        "  }\n",
        "  '''))\n",
        "get_ipython().events.register('pre_run_cell', adjust_font) #corrects font prior to runing any cell #1,2,7,10, are all seamless RUN IT TWICE\n",
        "blankgrid()\n",
        "print(\"\"\"         _____                   _______                   _____                    _____          \\n         /\\\\    \\\\                 /::\\\\    \\\\                 /\\\\    \\\\                  /\\\\    \\\\         \\n        /::\\\\    \\\\               /::::\\\\    \\\\               /::\\\\____\\\\                /::\\\\    \\\\        \\n       /::::\\\\    \\\\             /::::::\\\\    \\\\             /::::|   |               /::::\\\\    \\\\       \\n      /::::::\\\\    \\\\           /::::::::\\\\    \\\\           /:::::|   |              /::::::\\\\    \\\\      \\n     /:::/\\\\:::\\\\    \\\\         /:::/~~\\\\:::\\\\    \\\\         /::::::|   |             /:::/\\\\:::\\\\    \\\\     \\n    /:::/  \\\\:::\\\\    \\\\       /:::/    \\\\:::\\\\    \\\\       /:::/|::|   |            /:::/__\\\\:::\\\\    \\\\    \\n   /:::/    \\\\:::\\\\    \\\\     /:::/    / \\\\:::\\\\    \\\\     /:::/ |::|   |           /::::\\\\   \\\\:::\\\\    \\\\   \\n  /:::/    / \\\\:::\\\\    \\\\   /:::/____/   \\\\:::\\\\____\\\\   /:::/  |::|   | _____    /::::::\\\\   \\\\:::\\\\    \\\\  \\n /:::/    /   \\\\:::\\\\ ___\\\\ |:::|    |     |:::|    | /:::/   |::|   |/\\\\    \\\\  /:::/\\\\:::\\\\   \\\\:::\\\\    \\\\ \\n/:::/____/     \\\\:::|    ||:::|____|     |:::|    |/:: /    |::|   /::\\\\____\\\\/:::/__\\\\:::\\\\   \\\\:::\\\\____\\\\\\n\\\\:::\\\\    \\\\     /:::|____| \\\\:::\\\\    \\\\   /:::/    / \\\\::/    /|::|  /:::/    /\\\\:::\\\\   \\\\:::\\\\   \\\\::/    /\\n \\\\:::\\\\    \\\\   /:::/    /   \\\\:::\\\\    \\\\ /:::/    /   \\\\/____/ |::| /:::/    /  \\\\:::\\\\   \\\\:::\\\\   \\\\/____/ \\n  \\\\:::\\\\    \\\\ /:::/    /     \\\\:::\\\\    /:::/    /            |::|/:::/    /    \\\\:::\\\\   \\\\:::\\\\    \\\\     \\n   \\\\:::\\\\    /:::/    /       \\\\:::\\\\__/:::/    /             |::::::/    /      \\\\:::\\\\   \\\\:::\\\\____\\\\    \\n    \\\\:::\\\\  /:::/    /         \\\\::::::::/    /              |:::::/    /        \\\\:::\\\\   \\\\::/    /    \\n     \\\\:::\\\\/:::/    /           \\\\::::::/    /               |::::/    /          \\\\:::\\\\   \\\\/____/     \\n      \\\\::::::/    /             \\\\::::/    /                /:::/    /            \\\\:::\\\\    \\\\         \\n       \\\\::::/    /               \\\\::/____/                /:::/    /              \\\\:::\\\\____\\\\        \\n        \\\\::/____/                 ~~                      \\\\::/    /                \\\\::/    /        \\n         ~~                                                \\\\/____/                  \\\\/____/         \\n                                                                                                  \\n\\n\n",
        "\"\"\")"
      ],
      "execution_count": null,
      "outputs": [
        {
          "output_type": "display_data",
          "data": {
            "application/javascript": [
              "\n",
              "  for (rule of document.styleSheets[0].cssRules){\n",
              "    if (rule.selectorText=='body') {\n",
              "      rule.style.fontSize = '7px'\n",
              "      break\n",
              "    }\n",
              "  }\n",
              "  "
            ],
            "text/plain": [
              "<IPython.core.display.Javascript object>"
            ]
          },
          "metadata": {
            "tags": []
          }
        },
        {
          "output_type": "display_data",
          "data": {
            "application/javascript": [
              "\n",
              "  for (rule of document.styleSheets[0].cssRules){\n",
              "    if (rule.selectorText=='body') {\n",
              "      rule.style.fontSize = '7px'\n",
              "      break\n",
              "    }\n",
              "  }\n",
              "  "
            ],
            "text/plain": [
              "<IPython.core.display.Javascript object>"
            ]
          },
          "metadata": {
            "tags": []
          }
        },
        {
          "output_type": "display_data",
          "data": {
            "application/javascript": [
              "\n",
              "  for (rule of document.styleSheets[0].cssRules){\n",
              "    if (rule.selectorText=='body') {\n",
              "      rule.style.fontSize = '7px'\n",
              "      break\n",
              "    }\n",
              "  }\n",
              "  "
            ],
            "text/plain": [
              "<IPython.core.display.Javascript object>"
            ]
          },
          "metadata": {
            "tags": []
          }
        },
        {
          "output_type": "display_data",
          "data": {
            "application/javascript": [
              "\n",
              "  for (rule of document.styleSheets[0].cssRules){\n",
              "    if (rule.selectorText=='body') {\n",
              "      rule.style.fontSize = '7px'\n",
              "      break\n",
              "    }\n",
              "  }\n",
              "  "
            ],
            "text/plain": [
              "<IPython.core.display.Javascript object>"
            ]
          },
          "metadata": {
            "tags": []
          }
        },
        {
          "output_type": "stream",
          "text": [
            "         _____                   _______                   _____                    _____          \n",
            "         /\\    \\                 /::\\    \\                 /\\    \\                  /\\    \\         \n",
            "        /::\\    \\               /::::\\    \\               /::\\____\\                /::\\    \\        \n",
            "       /::::\\    \\             /::::::\\    \\             /::::|   |               /::::\\    \\       \n",
            "      /::::::\\    \\           /::::::::\\    \\           /:::::|   |              /::::::\\    \\      \n",
            "     /:::/\\:::\\    \\         /:::/~~\\:::\\    \\         /::::::|   |             /:::/\\:::\\    \\     \n",
            "    /:::/  \\:::\\    \\       /:::/    \\:::\\    \\       /:::/|::|   |            /:::/__\\:::\\    \\    \n",
            "   /:::/    \\:::\\    \\     /:::/    / \\:::\\    \\     /:::/ |::|   |           /::::\\   \\:::\\    \\   \n",
            "  /:::/    / \\:::\\    \\   /:::/____/   \\:::\\____\\   /:::/  |::|   | _____    /::::::\\   \\:::\\    \\  \n",
            " /:::/    /   \\:::\\ ___\\ |:::|    |     |:::|    | /:::/   |::|   |/\\    \\  /:::/\\:::\\   \\:::\\    \\ \n",
            "/:::/____/     \\:::|    ||:::|____|     |:::|    |/:: /    |::|   /::\\____\\/:::/__\\:::\\   \\:::\\____\\\n",
            "\\:::\\    \\     /:::|____| \\:::\\    \\   /:::/    / \\::/    /|::|  /:::/    /\\:::\\   \\:::\\   \\::/    /\n",
            " \\:::\\    \\   /:::/    /   \\:::\\    \\ /:::/    /   \\/____/ |::| /:::/    /  \\:::\\   \\:::\\   \\/____/ \n",
            "  \\:::\\    \\ /:::/    /     \\:::\\    /:::/    /            |::|/:::/    /    \\:::\\   \\:::\\    \\     \n",
            "   \\:::\\    /:::/    /       \\:::\\__/:::/    /             |::::::/    /      \\:::\\   \\:::\\____\\    \n",
            "    \\:::\\  /:::/    /         \\::::::::/    /              |:::::/    /        \\:::\\   \\::/    /    \n",
            "     \\:::\\/:::/    /           \\::::::/    /               |::::/    /          \\:::\\   \\/____/     \n",
            "      \\::::::/    /             \\::::/    /                /:::/    /            \\:::\\    \\         \n",
            "       \\::::/    /               \\::/____/                /:::/    /              \\:::\\____\\        \n",
            "        \\::/____/                 ~~                      \\::/    /                \\::/    /        \n",
            "         ~~                                                \\/____/                  \\/____/         \n",
            "                                                                                                  \n",
            "\n",
            "\n",
            "\n"
          ],
          "name": "stdout"
        }
      ]
    },
    {
      "cell_type": "code",
      "metadata": {
        "id": "S9WXNXfEyz8o"
      },
      "source": [
        ""
      ],
      "execution_count": null,
      "outputs": []
    },
    {
      "cell_type": "markdown",
      "metadata": {
        "id": "QKVHKd3Jwuqq"
      },
      "source": [
        "**how to create and import maps:** \r\n",
        "1. open http://piskelapp.com/p/create \r\n",
        "2. click resize and change the size to desired area you want your map to be.\r\n",
        "\r\n",
        " ![image.png](data:image/png;base64,iVBORw0KGgoAAAANSUhEUgAAAZ0AAAFsCAIAAACYc/NJAAAgAElEQVR4Ae2dCXgUVdr9SXcCJKB8Lv8RB3Bm2oGReWb80HajQ4BAWIKACASVT0Zk2GQTECYIKAGRfd+CCYGwBWhQFGEAEYEBEQQRZXEEF0ARVNYAoiyp/xMuHovT3dWV7q6kO3nr4cFzbv3q1q2beo9VXdWhVLYskTkDKSkpVXwvlSpVaupjSfGx+MCb+sBThFczUNLmp1KlSr7PuyJeU7ly5UqVKlWsWLFUZBa1jDpbco0CRXK2cHJWck3Sx8IZkFyTXPMa5TQtsF7hpk0LfD0uuWZhVUvXkmuoWCVCVbfULaz0r2ZAck3Cx8IZkFxD4kiu6TOXpgVWz+g1ABJ6Rq8l1yysaum6adOmBh/SVqpUiU5TWP05qtcASOgZvSYMVs/oNQASekavCYPVM3oNgISe0WvCYPWMXgMgoWf0mjBYPaPXAEjoGb0mDFbP6DUAEnpGrwmDlVyT8LFwBiTX9EUYwOdEKFQS1C0sYbAASAAgQRgsYbAASAAgQRgsYbAASAAgIblmYVVL15JrJuuQMFgqV1gAJACQIAyWMFgAJACQIAyWMFgAJACQIAyWMFjJNQkfC2dAcg0VqAQKjwRhsITBAiABgARhsITBAiABgARhsITBAiABgARhsITBSq5ZWNXSteQaKlAJFB4JwmAJgwVAAgAJwmAJgwVAAgAJwmAJgwVAAgAJwmAJg5Vck/CxcAYk11CBSqDwSBAGSxgsABIASBAGSxgsABIASBAGSxgsABIASBAGSxis5JqFVS1dS66hApVA4ZEgDJYwWAAkAJAgDJYwWAAkAJAgDJYwWAAkAJAgDJYwWMk1CR8LZ0ByDRWoBAqPBGGwhMECIAGABGGwhMECIAGABGGwhMECIAGABGGwhMFKrllY1dK1vJeLSlMCBUmCMFjCYAGQAECCMFjCYAGQAECCMFjCYAGQAECCMFjCYCXXJHwsnAHJNVSgEig8EoTBEgYLgAQAEoTBEgYLgAQAEoTBEgYLgAQAEoTBEgYruWZhVUvXkmuoQCVQeCQIgyUMFgAJACQIgyUMFgAJACQIgyUMFgAJACQIgyUMVnJNwsfCGZBcQwUqgcIjQRgsYbAASAAgQRgsYbAASAAgQRgsYbAASAAgQRgsYbCSaxZWtXQtuYYKVAKFR4IwWMJgAZAAQIIwWMJgAZAAQIIwWMJgAZAAQIIwWMJgJdckfCycAck1VKASKDwShMESBguABAAShMESBguABAAShMESBguABAAShMESBiu5ZmFVS9eSa6hAJVB4JAiDJQwWAAkAJAiDJQwWAAkAJAiDJQwWAAkAJAiDJQxWck3Cx8IZkFxDBSqBwiNBGCxhsABIACBBGCxhsABIACBBGCxhsABIACBBGCxhsJJrFla1dC3v5aLSlEBBkiAMljBYACQAkCAMljBYACQAkCAMljBYACQAkCAMljBYyTUJHwtnQHINFagECo8EYbCEwQIgAYAEYbCEwQIgAYAEYbCEwQIgAYAEYbCEwUquWVjV0rXkGipQCRQeCcJgCYMFQAIACcJgCYMFQAIACcJgCYMFQAIACcJgCYOVXJPwsXAGJNdQgUqg8EgQBksYLAASAEgQBksYLAASAEgQBksYLAASAEgQBksYrOSahVUtXUuuoQKVQOGRIAyWMFgAJACQIAyWMFgAJACQIAyWMFgAJACQIAyWMFjJNQkfC2dAcg0VqAQKjwRhsITBAiABgARhsITBAiABgARhsITBAiABgARhsITBSq5ZWNXSteQaKlAJFB4JwmAJgwVAAgAJwmAJgwVAAgAJwmAJgwVAAgAJwmAJg5Vck/CxcAYk11CBSqDwSBAGSxgsABIASBAGSxgsABIASBAGSxgsABIASBAGSxis5JqFVS1dy3u5qDQlUJAkCIMlDBYACQAkCIMlDBYACQAkCIMlDBYACQAkCIMlDFZyTcLHwhmQXEMFKoHCI0EYLGGwAEgAIEEYLGGwAEgAIEEYLGGwAEgAIEEYLGGwkmsWVrV0LbmGClQChUeCMFjCYAGQAECCMFjCYAGQAECCMFjCYAGQAECCMFjCYCXXJHwsnAHJNVSgEig8EoTBEgYLgAQAEoTBEgYLgAQAEoTBEgYLgAQAEoTBEgYruWZhVUvXkmuoQCVQeCQIgyUMFgAJACQIgyUMFgAJACQIgyUMFgAJACQIgyUMVnJNwsfCGZBcQwUqgcIjQRgsYbAASAAgQRgsYbAASAAgQRgsYbAASAAgQRgsYbCSaxZWtXQtuYYKVAKFR4IwWMJgAZAAQIIwWMJgAZAAQIIwWMJgAZAAQIIwWMJgJdckfCycAck1VKASKDwShMESBguABAAShMESBguABAAShMESBguABAAShMESBiu5ZmFVS9fyXi4qTQkUJAnCYAmDBUACAAnCYAmDBUACAAnCYAmDBUACAAnCYAmDlVyT8LFwBiTXUIFKoPBIEAZLGCwAEgBIEAZLGCwAEgBIEAZLGCwAEgBIEAZLGKzkmoVVLV1LrqEClUDhkSAMljBYACQAkCAMljBYACQAkCAMljBYACQAkCAMljBYyTUJHwtnQHINFagECo8EYbCEwQIgAYAEYbCEwQIgAYAEYbCEwQIgAYAEYbCEwUquWVjV0rXkGipQCRQeCcJgCYMFQAIACcJgCYMFQAIACcJgCYMFQAIACcJgCYOVXJPwsXAGJNdQgUqg8EgQBksYLAASAEgQBksYLAASAEgQBksYLAASAEgQBksYrOSahVUtXUuuoQKVQOGRIAyWMFgAJACQIAyWMFgAJACQIAyWMFgAJACQIAyWMFjJNQkfC2dAcg0VqAQKjwRhsITBAiABgARhsITBAiABgARhsITBAiABgARhsITBSq5ZWNXStbyXi0pTAgVJgjBYwmABkABAgjBYwmABkABAgjBYwmABkABAgjBYwmAl1yR8LJwByTVUoBIoPBKEwRIGC4AEABKEwRIGC4AEABKEwRIGC4AEABKEwRIGK7lmYVVL15JrqEAlUHgkCIMlDBYACQAkCIMlDBYACQAkCIMlDBYACQAkCIMlDFZyTcLHwhmQXEMFKoHCI0EYLGGwAEgAIEEYLGGwAEgAIEEYLGGwAEgAIEEYLGGwkmsWVrV0LbmGClQChUeCMFjCYAGQAECCMFjCYAGQAECCMFjCYAGQAECCMFjCYCXXJHwsnAHJNVSgEig8EoTBEgYLgAQAEoTBEgYLgAQAEoTBEgYLgAQAEoTBEgYruWZhVUvXkmuoQCVQeCQIgyUMFgAJACQIgyUMFgAJACQIgyUMFgAJACQIgyUMVnJNwsfCGZBcQwUqgcIjQRgsYbAASAAgQRgsYbAASAAgQRgsYbAASAAgQRgsYbCSaxZWtXQt7+Wi0pRAQZIgDJYwWAAkAJAgDJYwWAAkAJAgDJYwWAAkAJAgDJYwWMk1CR8LZ0ByDRWoBAqPBGGwhMECIAGABGGwhMECIAGABGGwhMECIAGABGGwhMFKrllY1dK15BoqUAkUHgnCYAmDBUACAAnCYAmDBUACAAnCYAmDBUACAAnCYAmDlVyT8LFwBiTXUIFKoPBIEAZLGCwAEgBIEAZLGCwAEgBIEAZLGCwAEgBIEAZLGKzkmoVVLV1LrqEClUDhkSAMljBYACQAkCAMljBYACQAkCAMljBYACQAkCAMljBYyTUJHwtnQHINFagECo8EYbCEwQIgAYAEYbCEwQIgAYAEYbCEwQIgAYAEYbCEwUquWVjV0rXkGipQCRQeCcJgCYMFQAIACcJgCYMFQAIACcJgCYMFQAIACcJgCYOVXJPwsXAGJNdQgUqg8EgQBksYLAASAEgQBksYLAASAEgQBksYLAASAEgQBksYrOSahVUtXct7uag0JVCQJAiDJQwWAAkAJAiDJQwWAAkAJAiDJQwWAAkAJAiDJQxWck3Cx8IZkFxDBSqBwiNBGCxhsABIACBBGCxhsABIACBBGCxhsABIACBBGCxhsJJrFla1dC25hgpUAoVHgjBYwmABkABAgjBYwmABkABAgjBYwmABkABAgjBYwmAl1yR8LJwByTVUoBIoPBKEwRIGC4AEABKEwRIGC4AEABKEwRIGC4AEABKEwRIGK7lmYVVL15JrqEAlUHgkCIMlDBYACQAkCIMlDBYACQAkCIMlDBYACQAkCIMlDFZyTcLHwhmQXEMFKoHCI0EYLGGwAEgAIEEYLGGwAEgAIEEYLGGwAEgAIEEYLGGwkmsWVrV0LbmGClQChUeCMFjCYAGQAECCMFjCYAGQAECCMFjCYAGQAECCMFjCYCXXJHwsnAHJNVSgEig8EoTBEgYLgAQAEoTBEgYLgAQAEoTBEgYLgAQAEoTBEgYruWZhVUvX8l4uKk0JFCQJwmAJgwVAAgAJwmAJgwVAAgAJwmAJgwVAAgAJwmAJg5Vck/CxcAYk11CBSqDwSBAGSxgsABIASBAGSxgsABIASBAGSxgsABIASBAGSxis5JqFVS1dS66hApVA4ZEgDJYwWAAkAJAgDJYwWAAkAJAgDJYwWAAkAJAgDJYwWMk1CR8LZ0ByDRWoBAqPBGGwhMECIAGABGGwhMECIAGABGGwhMECIAGABGGwhMFKrllY1dK15BoqUAkUHgnCYAmDBUACAAnCYAmDBUACAAnCYAmDBUACAAnCYAmDlVyT8LFwBiTXUIFKoPBIEAZLGCwAEgBIEAZLGCwAEgBIEAZLGCwAEgBIEAZLGKzkmoVVLV1LrqEClUDhkSAMljBYACQAkCAMljBYACQAkCAMljBYACQAkCAMljBYyTUJHwtnQHINFagECo8EYbCEwQIgAYAEYbCEwQIgAYAEYbCEwQIgAYAEYbCEwUquWVjV0rW8l4tKUwIFSYIwWMJgAZAAQIIwWMJgAZAAQIIwWMJgAZAAQIIwWMJgJdckfCycAck1VKASKDwShMESBguABAAShMESBguABAAShMESBguABAAShMESBiu5ZmFVS9eSa6hAJVB4JAiDJQwWAAkAJAiDJQwWAAkAJAiDJQwWAAkAJAiDJQxWck3Cx8IZkFxDBSqBwiNBGCxhsABIACBBGCxhsABIACBBGCxhsABIACBBGCxhsJJrFla1dC25hgpUAoVHgjBYwmABkABAgjBYwmABkABAgjBYwmABkABAgjBYwmAl1yR8LJwByTVUoBIoPBKEwRIGC4AEABKEwRIGC4AEABKEwRIGC4AEABKEwRIGK7lmYVVL15JrqEAlUHgkCIMlDBYACQAkCIMlDBYACQAkCIMlDBYACQAkCIMlDFZyTcLHwhmQXEMFKoHCI0EYLGGwAEgAIEEYLGGwAEgAIEEYLGGwAEgAIEEYLGGwkmsWVrV0Le/lotKUQEGSIAyWMFgAJACQIAyWMFgAJACQIAyWMFgAJACQIAyWMFjJNQkfC2dAcg0VqAQKjwRhsITBAiABgARhsITBAiABgARhsITBAiABgARhsITBSq5ZWNXSteQaKlAJFB4JwmAJgwVAAgAJwmAJgwVAAgAJwmAJgwVAAgAJwmAJg5Vck/CxcAYk11CBSqDwSBAGSxgsABIASBAGSxgsABIASBAGSxgsABIASBAGSxis5JqFVS1dS66hApVA4ZEgDJYwWAAkAJAgDJYwWAAkAJAgDJYwWAAkAJAgDJYwWMk1CR8LZ0ByDRWoBAqPBGGwhMECIAGABGGwhMECIAGABGGwhMECIAGABGGwhMFKrllY1dK15BoqUAkUHgnCYAmDBUACAAnCYAmDBUACAAnCYAmDBUACAAnCYAmDlVyT8LFwBiTXUIFKoPBIEAZLGCwAEgBIEAZLGCwAEgBIEAZLGCwAEgBIEAZLGKzkmoVVLV3Le7moNCVQkCQIgyUMFgAJACQIgyUMFgAJACQIgyUMFgAJACQIgyUMVnJNwsfCGZBcQwUqgcIjQRgsYbAASAAgQRgsYbAASAAgQRgsYbAASAAgQRgsYbCSaxZWtXQtuYYKVAKFR4IwWMJgAZAAQIIwWMJgAZAAQIIwWMJgAZAAQIIwWMJgJdckfCycAck1VKASKDwShMESBguABAAShMESBguABAAShMESBguABAAShMESBiu5ZmFVS9eSa6hAJVB4JAiDJQwWAAkAJAiDJQwWAAkAJAiDJQwWAAkAJAiDJQxWck3Cx8IZkFxDBSqBwiNBGCxhsABIACBBGCxhsABIACBBGCxhsABIACBBGCxhsJJrFla1dC25hgpUAoVHgjBYwmABkABAgjBYwmABkABAgjBYwmABkABAgjBYwmAl1yR8LJwByTVUoBIoPBKEwRIGC4AEABKEwRIGC4AEABKEwRIGC4AEABKEwRIGK7lmYVVL1/JeLipNCRQkCcJgCYMFQAIACcJgCYMFQAIACcJgCYMFQAIACcJgCYOVXJPwsXAGJNdQgUqg8EgQBksYLAASAEgQBksYLAASAEgQBksYLAASAEgQBksYrOSahVUtXUuuoQKVQOGRIAyWMFgAJACQIAyWMFgAJACQIAyWMFgAJACQIAyWMFjJNQkfC2dAcg0VqAQKjwRhsITBAiABgARhsITBAiABgARhsITBAiABgARhsITBSq5ZWNXSteQaKlAJFB4JwmAJgwVAAgAJwmAJgwVAAgAJwmAJgwVAAgAJwmAJg5Vck/CxcAYk11CBSqDwSBAGSxgsABIASBAGSxgsABIASBAGSxgsABIASBAGSxis5JqFVS1dS66hApVA4ZEgDJYwWAAkAJAgDJYwWAAkAJAgDJYwWAAkAJAgDJYwWMk1CR8LZ0ByDRWoBAqPBGGwhMECIAGABGGwhMECIAGABGGwhMECIAGABGGwhMFKrllY1dK1vJeLSlMCBUmCMFjCYAGQAECCMFjCYAGQAECCMFjCYAGQAECCMFjCYCXXJHwsnAHJNVSgEig8EoTBEgYLgAQAEoTBEgYLgAQAEoTBEgYLgAQAEoTBEgYruWZhVUvXkmuoQCVQeCQIgyUMFgAJACQIgyUMFgAJACQIgyUMFgAJACQIgyUMVnJNwsfCGZBcQwUqgcIjQRgsYbAASAAgQRgsYbAASAAgQRgsYbAASAAgQRgsYbCSaxZWtXQtuYYKVAKFR4IwWMJgAZAAQIIwWMJgAZAAQIIwWMJgAZAAQIIwWMJg/eaaKwyWUhIQEToDkmuoQCVQeCQIgyUMFgAJACQIgyUMFgAJACQIgyUMFgAJACQIgyUMVnItQhMjMoYtuYYKVAKFR4IwWMJgAZAAQIIwWMJgAZAAQIIwWMJgAZAAQIIwWMJgJdciIyAidJSSa6hAJVB4JAiDJQwWAAkAJAiDJQwWAAkAJAiDJQwWAAkAJAiDJQxWci1CEyMyhi3v5aLSlEBBkiAMljBYACQAkCAMljBYACQAkCAMljBYACQAkCAMljBYybXICIgIHaXkGipQCRQeCcJgCYMFQAIACcJgCYMFQAIACcJgCYMFQAIACcJgCYOVXIvQxIiMYUuuoQKVQOGRIAyWMFgAJACQIAyWMFgAJACQIAyWMFgAJACQIAyWMFjJtcgIiAgdpeQaKlAJFB4JwmAJgwVAAgAJwmAJgwVAAgAJwmAJgwVAAgAJwmAJg7U617p37z7x2tK9e/eA3xiR9zwiNNayJddQgUqg8EgQBksYLAASAEgQBksYLAASAEgQBksYLAASAEgQBksYrKW5tnbtWk23rF27NrBok1yTXLt+JuPEJYETnQRhsITBAiABgARhsITBAiABgARhsITBAiABgARhsITBAiABgARhsITBAiABgARhsJbmmi7TrkvJtUhNqMDGLddrJuuQMFgUKgkAJAiDJQwWAAkAJAiDJQwWAAkAJAiDJQwWAIlQ5VpCQkJKSkpCQoI+uYxzzesm+s2h5XotsFQp+q0k11CBSlD5wRIGC4AEABKEwRIGC4AEABKEwRIGC4AEABKEwRIGC4BESHJtwIABZ86c0TRt27ZtdevWRR4Z5FrdunW3bdumadqZM2cGDBiATbwKybWiT6jARiDv5VK9oSBJEAZLGCwAEgBIEAZLGCwAEgBIEAZLGCwAEgBIEAZLGGzwuTZgwAB9fm3btq1Zs2bLly8/cuSIvl3pI0eOLF++vFmzZirUABhHm+RaYKlS9FtJrqEClUDhkSAMljBYACQAkCAMljBYACQAkCAMljBYACQAkCAMljDYIHMtISFBXakhoTRNu3Tpkt56ak/gzJkzdA+rv3CTXCv6hApsBJJrqEAlUHgkCIMlDBYACQAkCIMlDBYACQAkCIMlDBYACQAkCIMlDDbIXEtJSfGMrcBaUlJS9Fmm15JrgaVK0W8luYYKVAKFR4IwWMJgAZAAQIIwWMJgAZAAQIIwWMJgAZAAQIIwWMJgg8y1hIQEuqMMLNS2bdsm12tFH0MhH4HkGipQCRQeCcJgCYMFQAIACcJgCYMFQAIACcJgCYMFQAIACcJgCYMNMtdcLheeAHgmWl5e3pEjR9ZcW44cOZKXl+fJeD5t0F+pKS3XayEPnELqUHINFagECo8EYbCEwQIgAYAEYbCEwQIgAYAEYbCEwQIgAYAEYbCEwQafay6Xq1mzZp4fmW3fvr1ly5b6kGrZsuX27dsp2i5dutSsWTM95qkl1wophkK+G8k1VKASKDwShMESBguABAAShMESBguABAAShMESBguABAAShMESBhuSXFu+fDmlVXp6umc8qZb09HSCly9f7gtW7ZJrIQ+cQupQcg0VqAQKjwRhsITBAiABgARhsITBAiABgARhsITBAiABgARhsITBhiTX6JWO7du3G+cUXbUdOXLEmJdcK6QYCvlu5L1cVJoSKEgShMESBguABAAShMESBguABAAShMESBguABAAShMESBhtwrtF3P3EJlpeXR7efnpnVsmVLX5+1ef0OqeRayAOnkDqUXEMFKoHCI0EYLGGwAEgAIEEYLGGwAEgAIEEYLGGwAEgAIEEYLGGwgeVa9+7dEWQk/F58qZijSzx9J56/+UNyrZBiKOS7kVxDBSqBwiNBGCxhsABIACBBGCxhsABIACBBGCxhsABIACBBGCxhsIHl2sSJE/VJpNdr1qzxvEDzbFmzZo1+K72eOHEi8ZJrIQ+cQupQcg0VqAQKjwRhsITBAiABgARhsITBAiABgARhsITBAiABgARhsITBSq4VUoWXzN1IrqEClUDhkSAMljBYACQAkCAMljBYACQAkCAMljBYACQAkCAMljDYwHJN7kNLZkwV+Kgl11CBSqDwSBAGSxgsABIASBAGSxgsABIASBAGSxgsABIASBAGSxhsYLnmcrnkuUGBi7wEbiC5hgpUAoVHgjBYwmABkABAgjBYwmABkABAgjBYwmABkABAgjBYwmADzjX9R2D0EEDe8yiBCeb9kCXXUIFKoPBIEAZLGCwAEgBIEAZLGCwAEgBIEAZLGCwAEgBIEAZLGGxIck3ey/Ve1dIq7+Wi0pRAQZIgDJYwWAAkAJAgDJYwWAAkAJAgDJYwWAAkAJAgDJYw2JDkmnyPShLM+wxIrqEClUDhkSAMljBYACQAkCAMljBYACQAkCAMljBYACQAkCAMljDY4HNNvvfuvaSlNTs7W3INFagECo8EYbCEwQIgAYAEYbCEwQIgAYAEYbCEwQIgAYAEYbCEwQaZa/J7iiS+jGZAcg0VqAQKjwRhsITBAiABgARhsITBAiABgARhsITBAiABgARhsITBBplr8nsljapa1kmuoQKVQOGRIAyWMFgAJACQIAyWMFgAJACQIAyWMFgAJACQIAyWMNggc01+D7hkl9EMSK6hApVA4ZEgDJYwWAAkAJAgDJYwWAAkAJAgDJYwWAAkAJAgDJYw2CBzzeVyyb/bYlTYJXyd5BoqUAkUHgnCYAmDBUACAAnCYAmDBUACAAnCYAmDBUACAAnCYAmDDT7XVLTJv7NXwhPM++FLrqEClUDhkSAMljBYACQAkCAMljBYACQAkCAMljBYACQAkCAMljDYkOSay+Xy+o8c67/NrrT+bV6vm+gBaPneu/fUCP9Wv+/lOgtrcTgchbUr2U/Rz0Cocg0ZpBfGuaYnjbXkWvgnmPcRSq4VfYmXyBFYmmv0HVKvvzPSONHUWsk176kR/q2SayUyVYr+oC3NNZfL1b1794nXFs/fFmkm0STXwj+7jEYouVb0JV4iR2B1rpkPLwNSrteMsiOc10mulchUKfqDllwL51iI+LGFMNceeeSRoUOHNm3a1OVytWvXrlu3bgWqHnluUKDp8oTvrdnwT00G/b7VjN+3mvGnJoPurdnQkwmfFsm1iM+OcD6AEObaAw88sGDBgiVLlrRs2XLJkiX9+vUrUBVJrhVouvTwvTUb3vb0W6X6a/Tn9qffCtt0k1wL51iI+LGFMNecTmdWVlbbtm2HDh3av3//nj176mvPr5Zc8ztFXoF76rWP6fU9JRpsTK/v76nX3uuGRdsouRbx2RHOB+D3vVyTZ3/jxo2HDRs2e/bsRx55ZNy4cb17905PT1ePokz2YJBrjRs3fvXVV91ud61atdBbu3bt0tPTMzMzJ0yY0LDhDfdcDz74oNvtnjdv3txfl0mTJqnGOXPmZGVlzZkzZ9q0aa1bt1a9NW3adNy4cdOnT585c+a0adOeeOIJ7CXMxb01GxqEmkq3mF7fh+FVm2euTahQ4YMyZbRSpcLhz64KFbKqVJHnBuGcXUZjCz7XmjdvPmLEiCVLlowZM6ZBgwYJCQkdO3acM2dO7dq1+/Xrl52d3a9fv7p16/oNCINcGzp0aOvWrZcsWYJcS0pKmjdvXlJSktPp7N69+9ixY/X9qwijnVJjy5Yt58+fX7t2bafTOXv27ObNm6seWrRosXDhwoSEBH2HxrrxP15sNHxnfOp78f3fKeQ/d/Q/ikszA5E07vCKQl/efvvtnJycp556yuvseeba5zEx4ZBoGMNXcXGSa0bZEc7rgsm1hx566EN8lz0AACAASURBVOWXX3a73Tk5Oc8++6w6fR9//PEGDRpkZGQMGjTI6XQ2a9YsKytr4cKFHTp08Hp+o9Eg1xSjzzWXy9WoUSPVnpycnJWVhX6cTidFmFrl2Th16tQnn3zywQcfXLRo0eOPP44eHnroIWi/ovE/XoxPfa9i/yP2/lcMkqXIV33+7ZnThbucOHFi//79b7/9ttdo88w1BEr4CMm1cM4uo7EFnGsPPvjg2LFj3W53dnb2o48+ivrv1avXI4880qNHj9mzZw8dOvThhx9OTEzMzMx0u93GT0gLlGvYndPpfO6554YOHapv8Ywwr2E3Y8aMlJQUp9PZrVu3BQsWDBs27Nlnn61Tp46+K7+60fCdFfsfKfLY8juAzC0XCjfWru9t//79OTk5ntMouWZUlrIuyBkIONc6derkdruXLFmCOzin0/nAAw/MnDnT5XLNmDEjOTk5Ozt74sSJNWvWTE5OXnxtUXeOnme50+kMLNcef/zxzMzMxMREfZ8q1/Sfr6WlpSHsqlevftttt5W9tth1S0xMTJkyZcqWLVu6dGldsz9ZOq5U6ZvC/0/p2JvKF9ESGxtLkxgdHR0bG1uxYsUqukV/mValSpWkIlr0w5DrtSDjpcg2DzjXpkyZ4na7R48erQ+Utm3but3uunXrLliwoHPnzo8//rjb7VYXU2lpaW63u3fv3nperwPItaeeeiojI6Nx48b6frxemqFx6NChN998c9myZcuUKRMdHU31pmzZsmV9rfLCS675i0vPXLPb7VFRUXa7XR9t+kCRXCuyRCgeOw441xYtWuSZU2lpadOmTXM6nWlpaRkZGU6nMyMjw+12JyYmPvPMM263e8SIEZRBsAXNtZSUlJkzZ9arVw89QODSDC3Itd/97nee2UQpVqZMmZiYGE/Ma0t0mbio0uXD/3qtbFzRXK+VK1fOV65FRUXFxcXhik1yrXhESlgcRWC5poLD7XZ3795dnx3jxo3717/+5XQ6n376abfbXbt27XHjxrnd7iZNmrRu3drtdtODS/22Bco1l8uVlZWFRwf6fhBhXp+Het5jRkdH6y/QyHrNMn1jdExpe+kIiLZy/q6qrFivQs3r/ySiri12u11yLSyCoJgNIuD3cmfPnu12u/v27avPlJEjR/bv39/pdKob0jp16qSnpy9ZsqRmzZr/+Mc/3G73Sy+9pOf12leuxcfHZ11b3G737Nmzs7KyEhISnnnmmcWLF6t29Xd8fDx6M7he00cSdHR0tPpkzfj+FDyJ6JjS0WXi7KWL4I/JS0V7mfKxRbR4DTV1H6qiTXKtmEVKWBxOwLk2bNgwt9s9Y8YMpInT6ezdu/e4ceOcTueQIUOmTZvWpEkTt9s9ZswYp9M5evRot9uN10H0WyntK9c8yWBaKJIi3drs0aX83wWXt9m9f5JYhIevQi0qKkpyLSyCoJgNIuBca9as2ZIlS9xud2pq6gMPPKCyJikpKScnp3nz5nPnzm3WrNmkSZNycnKSk5PVTeisWbMefvhhX6kkuRZYytjsMYbRVt5mN/tZYWADCGwrybViliThdTgB55rT6ezSpYuKtqlTpz711FMPPvig0+lMTU1t1qxZnz59pk+fnpmZ+dhjj6WkpKivMzVt2tRXqJl5z8NgW/OrAivCMN/KZo+Oion1fHYRFRMbhldqajIl18IrCIrZaILJNfV1gldeeUU9G503b97QoUO7d+/+wAMPuN3uyZMnv/TSS+np6XPnzk1NTVXfWDIIILleCzI9bfZoW3TpqOiyUdFlbdGlwzbRgsw1z3+7IFQt6oU5/WNZeX8tUuMuyFxTOfXwww8/9thjHTt27NOnz8CBA2vVqvXiiy/26tWrffv2jRs3xl2qQaiV2Ou13//OnrvTvvP1/D8fvWH/YLG9fs38wlftu9+048+IPvntzerZN863b8i2f7jUnjXcXuGm/Mbcnfaby9tr3vcbvPdt+4WP7ZUr+uxHhUsR/h3w9VqoUsyzH8m1SE0xz3GHJNeMA8vk2pJ5vfb739m/2fBbvDzwd/u3G+1lSufnkb5dEeXL5a+tXDHfRUfbJ7xo/2frfK1y7bde7PahPe2TBuU3eO1HTxaVDjLXQvtlBJVxkmue+RCpLZJrRVXYar+eufPdpvww8my32+23VrD/+IH9rt/zkCnX6j6UfzVXvlw+5rUf3r4ovORapEZGRIzb+L3cypUr16hRw+QFV5CYXK/FlrU/29K+6438azH9/am6S01y5cdPj6fth96zL51k7/m0/Y+VrweSPtduv8W+5237vX+5vspXP0URZb/t02azSa5FRD5E6iD95lq1atUKJ9pKbK7l7rRvW5L/57tN9remX08rg+usm8vbH61rH59qP7zB/kST/LDQ59riCfZubX9LEIN+foMKV9muLZJrkRoZETFu41yrUqVK5WtLpeKyoJzCRFS8Perwe9fH0jgh6j/zo6Kj862+XT/UuNjfXHLtqHfn5NszH0aVj8sXHVtHLZ30G2DQzw1QkZqCvper/ywsVJ+y6fuU56EREVx+Buk313DaFQ9RpCXsZeeUXznjono/k49Ru9oyuXbU1kVR/3PT9X5SO0XNeiVfq1y7xxG1562o/3fr9bXqP177uYEoaoPzSh8oBr/PQ59BfnMtKytL8fQ3bajvUz8Mec/DT3yE7WrJtaKta8qdyhWjvn436s935efamQ+jdr3x25+3puePtMf/RX2wOP+ybktO1OxXo277n/xGlWuZw6K+2fgbv+uNqOaJPvsp2qPW793SXEtKSpo6dWpeXp7kWthGkCUDk1zT15jowp8Bq3MtKSkpOztbcs2S+AjbTiXXCr+SZY/6GahQoYKKNv0NYKjuQ5OSkjp37nz27FnJtbCNIEsG5jfXGjZsOGTIkFHFZSkjSxjMQLR6OPJrvKlosyLXunTpog813JDK52uWpEn4dGr8Xm6VKlWKU6iNGjUqDIpahpA/A79m2vX/VqhQIeS51rVr19zcXFypff3110OGDPnpp580TZNcC58IsmQkfnNNXag5isuiXp6Sv4twBlSuU65FRUUVKNeQVibFoUOHWrdunZSU1LNnz9zcXMk1S9IkfDqVXCvCCi+Zuy78XDt8+HBKSgqyrHPnztBKqHC8rnX/4Ly85xE+SVWwkUiulcxwKcKjLvxca9OmDQUZWcm1gqVG+NOSa0VY4SVz16HKNcomT4tbVM9V1CK5Fv5JVbARSq6VzHApwqP2mmsFfW7g+dk/RVVSUpLkWsGyoDjRkmtFWOElc9eeuRbAex6Sa8UphUJ/LJJrJTNcivCoKdcCey9Xci30WVCcevT7Xq6851GEEVAsd025Ftj3qCTXilMKhf5YJNdUdtx5551nz57dcW3ZuXPn1q1b69WrZzJWEhIS5syZYxImLD4+fuXKldRoxk6ZMqVdu3ZmSE8mmAF79lbQFsm10Jex9EgzILmmyvLOO+88cuQIStTpdH7zzTelS5dGS2hFbGzs+vXrbTZbkeRaMMcSEx1VOiaqTOn8v2OiowLoSnKNalBs6Gcg+FxTT50aN24cEV9J8FWHlGs2m+3o0aN33nmnzWbr37//imtLZmZmbGzsHXfcsWLFipUrV77//vudO3e22Wz16tV7/fXXGzZsuOba8vHHH2/btk3tiLbF3jMyMo4dO5aenh4fH7969epZs2Zt3Ljx3Xffvemmmzz3iK1iYmIyMzPfeeedOXPmvP766+3atUtMTFy6dOmmTZu6d+9+6623Ll++fMWKFWvWrBkzZozNZtu/f/8tt9xis9nmz58/c+ZMm8125513fvjhh2rAtWvXXrp0aXp6+jvvvKN2HRMTk5GRsX79+vnz57/22mvPPPMMdn377bf8e9Ub69e9uXnTv6dPHXVTuVJNm9T598olOz/c8EKfbtHRUXSknoNBV5JroS9j6ZFmQHJN1Zs+18qWLdu+ffuPPvrIbrfHx8fn5OQoZvTo0V26dOncufPYsWNtNlvZsmW7deuGXFNM2bJl33///caNG6trMdoWtX3PPfd88MEHivn222/vuOMOm822aNGiVq1aee4RWzVp0mTVqlU2my02NnbPnj3t2rWLj4//7rvvqlSpAkaJTZs23XvvvTNmzGjSJP83hb/99ttr16612WwpKSmjRo1SuRYfH3/06FH9rh999FHVf4UKFb744gvc58aWjbqpXCn1p3xcqZ0fbqj58N8aJtU8e/rbe6pVuqlcqYZJNV9ftlDtWs2SfjxqMGiRXKMaFBv6GZBcU/WmPl/74Npy9OjRN9988w9/+IPNZuvXr9/evXtX/rp069atatWqe/bsycjIaNOmTWxsLOXamDFjVOp53Ra1rc+1NWvWqPaxY8d27NjRc4/YKjU1NS0tTdlZs2apXFP3szabLS4uLiMjY9myZTk5OV999VW9evVSUlKGDx/+97//feLEiXPnzq1SpcqkSZOSkpKQayrsbDab2nVqaupLL72k+p8/f367du3sdlu52PxEu/3Wsgvnz3xz+dKcnJyvv/6yaZO6DZNqbtu6ToXdy4P7fv3lp+vXrVh1baK6devmORgcheRa6MtYeqQZsDTXkpOTN2zYcPr06QsXLuzatevJJ590OBzvvPOOpmkjR45U9601atS4fPnylStXHn744fvuu2/x4sUnTpy4dOnSZ5991rFjR8VcuXLl8uXLrVu3Pn78eHZ2tsPhePTRRzdu3Hjq1Kmff/75iy++GDFixN13323mRhjVRUJ/vZacnLx58+aYmBibzfbCCy+oezo9X7Zs2fr160+bNm3Lli12u13FhM1ma9CgwdatW1XY+dpW9aPPNTw3GDt2bKdOnbzuUW01YMAA5NqcOXNUrmHzzp07z58/X5GbN2+uV6/e7bff/u677z733HMpKSldu3Z98sknt2zZEhcXh1zDtmrXAwYMGDRokOph3rx57dq1U6EWWzaq23OdXl86F503bpTYMKnmhvUrVK6l/qvv5EmjbypXqlxsKcV4Dka122w2yTWqQbGhnwHrcq169eonTpzQNG38+PFpaWm//PJLbm7u/fff/89//lPTtN27d6sY6t27t6ZpGzZscDgcGzZs0DRtzpw5zz///H//+98rV67Ur1/f4XCo3y2zb9++3bt3jx8/vmrVqidOnMjNzR05cuTAgQO3bdt29uzZTp06hSrX1C1hnz59bDaby+XavXt3uXLlbDbbrFmz6tat26JFi9q1a9tstpiYmMOHD998880qJu644459+/ZVr14dBey5LVZVq1Ztx44d9NxAhYvBVo899pi6Tyxfvvx///tfyrX+/ftPmDDBZrM9/PDDP/zwQ6NGjWw224YNG954443f//73f//73xctWvTWW2/hAlP/yELtumXLlsuXL7fZbLfddtuXX37ZscPTN5UrFVs2/+HAiwP6vZY+zm6/3vljzRvoc612Qs3du3ffekvcTeVKzZubWbduXa+DUYcfqlzD1wn8Cs+vIlCL6kE16n+tiHzvPfSJUzg9Bv9erq/nBtWqVUtMTExOTnY4HFWrVt22bZumae3bt69ateqxY8c0TatVq5bD4Vi5cqWmaT179mzSpImmaYcOHVLx1K5dO03T5s2b53A4Lly4oGnalClT1Kr4+HhN044ePZqUlGQmy/QMkoWE/nrNZrNVqVLl0KFDVatWVbeTGzduXLt27eTJk2NiYqpXr75mzZq333573bp1ffv2RUykpaUdOnRIPTp48803Vf/9+vXTb4udxsXFffTRRytWrPAMF889YqvSpUvPnTt306ZNOTk58+fPf+aZZ/Sb33XXXe+///5bb701YcKEfv36bd68+fbbbx82bNjHH39ss9nsdvvhw4eff/55DFi/rcq1smXL5uTkrF+/fvbs2fPnz+vY4Ymbyl2//vrjH6vs3rV53drl06aOf2lQ3107N7Vu2QjXa9HRUepIt/xn9ayMiaVLx3gdjDqQws81v8EnuVY4aVN4e7Eu1xwOx7Bhw7766qvLly/jxOrevbvD4Zg2bZqmacOHD69Wrdq5c+dyc3OrV6/es2dPYBDvv/8+cg2PXO+++26VkpqmHTt27K233urQoYM+vAw0MkKE5wxUqFChVq1aKgTXrVuXEO+8qVypsmWuv8yh7knxAAEC955ly+Q/Xoi7dn3n2TlaJNcKr7xL7J6sy7XOnTurq6o2bdokJCTs2rVL0zSVa7Vr187Ly9uxY8eTTz6padqiRYscDkePHj00Tfvqq6866hb1kZy6XnO5XAisatWq9e3bd/ny5YcPH1YhmJqairUGAtUlwnMGypUrt3Dhwg0bNqxfv37o0KF2u618XP5DgzKl86Mt2v7bU1GE2k3lSkVfe4utTOn8teXjStntnh3f0BJkrtEtZMit3IcWhzC0LtemT5+uadrSpUsdDkeNGjXUb2Tu0aOHCp0tW7ZcuXJF/UNBKSkpDocjOTlZ07RTp0795S9/oWDyzDU9oC701q1bp2/0pW+oMDH+ZiA6OkpFW1zZKLs9P9riyl5/4SP/0iy2VLQ9yp7feD3UVMYZ9yq5VhyCI8yPIVS5tnnz5tW6ZcyYMampqSqnxo8f/+mnnx48eFDTtFWrVtWrV8/hcKgwunTp0uHDh5FBmzZt0jTtvffeS0tL++CDD86fPz9w4EDch+J6rWXLlsePH//0008HDhyYmpq6du1aTdNGjRqFfgyEccnJWs8ZiLZH4Q40tuz1rxnEXPuyQemYKLzaVu5axnlu7tkiuRbmmVAchheqXMMnYkq899571apVW7ZsWW5u7smTJydPnpyQkPD555+fPn26T58+DofjL3/5y6lTpzRNmzhxImLo/vvvX7Zs2alTpy5duvTVV1/h7Q3P67UhQ4bs37//woULFy9e/OKLL0aPHh3kex6e5Sct+hkoU/r6hZv+DlTp8nHXb1T1vIE2k2v6m8Ei1PI8NFIzLvhcQyoVSNSoUePMmTOXL19OSEgo0IZBwna/H/8YVGSJXxUTnf/N0Ngy+ZdpsWXydQBfEdXnmt1u9/r7PIowy/S7llyTXDMbOLVq1Zo5c+aBAwc0TVMv2ZrdMhRc+fLlS3w6FfEE6HMtLi4OufZBmTL6TClyvfuWWyTXIjXXgn8vt6Bp07x584sXL+bm5i5evNjzEUFBeysoX7lyZblkK9pgQ67Z7faKFSsi1yZUqPB5TEyRx5kawKFy5eY5HJJrkmsFTZgi4ytXrly+fHlJt6JKtzJlypQvXz4uLk4fakg3iJC/wBFAh5JrkmtFllOy48iaAfUbmJFfYSgqV65cqVKlihUrSq5JrkVWccloi2wGJNciNSwiaNyF//lakdWT7Dg8ZsBkrrnCYJHrtQiKshuGKrkWHsVegkYhuXZDBYqxYgYk10pQooTHoUquWVHI0ucNMyC5Fh7FXoJGIbl2QwWKsWIGiur7BiWojuVQb5wByTUrCln6vGEGTOZaZ1lkBkI0A5JrN1SgGCtmwGSu1bF4cTqdbisXq/t3u91Op9PiSapj9VFY3b/6CUuuWVHI0ucNMyC5Fqo4lVwzOZOSazdUoBgrZkByzWQ1+sUk1/xOkQIk16woZOnzhhmQXDNZjX4xyTW/UxTCXKPf91cgm5WVZfKdX3kv94awiCAjuWayGv1ikmt+pyhMck3TNJPRJrkWQVF2w1Al10xWo19Mcs3vFFmaa14vwfTXcQBUo5lok1y7ISwiyJh8L9f8k75evXotvLZ06dLF/FYFehK3aNGicePGLVq0yGQhqYeVJuElS5YM1y0zZswwuWHAuZaYmNinT5+WLVv6na4CzdLixYuzs7MXLFhgcvzmZ+m1116bOHEidTt79uyxY8cuXryY2j1tSD5f0weW0ogtvdBjaEej32iTXIugKLthqCHPtdWrV6vzZunSpX4LFYD5il20aNGwYcNSU1OHDRtmPtrM979kyZJU3eJZwJ6FqloCy7UWLVqMHz9e07Rz5841a9YME+JVmD8Kt9s9d+7c1NTUMWPG+BqwZ7uZ/mfOnDlgwIDU1NSxY8eih9mzZ7/44oupqanDhw/3G23hk2t+b0gl124IiwgykZVrCDWVPOajzUzFqiotzFwbOHDgxYsXBw0atG7dOk3TOnTo4DXO0Gj+KKzLtcGDByP2VbQh1FT7a6+9hrzzKsIq14yjTXItgqLshqFGUK5RqBUo2swnQqHl2sCBAy9duqRp2pUrVwYNGpSWlob88iVMHkVGRsbUqVMnTJiQmpo6dOjQqdcWM9e2ZvrPzs5W/7yhmv+RI0eqKzVlx48f7zXL9I3hlmuapuEWlYTk2g1hEUEmJLn23HPPjf912bt3r7oP/eijj35tG9+pUydftara/VaU11AzH21++0fhFU6uqVA7f/78mjVrNE07e/ZskyZNjKeoTh2z3zdYuHDhyy+/rCZH/W3yU0KTs0TRhh2ZCTW3212YuUY5pSw+X4PwirlcLsm1CIqyG4YaklzbtWsXThGv4j//+Y9x0RpXlEGomYw24/7dbve8efOyri2zZs1Coaampo4ePVq1Z2VlGX9yZP7zNYTa/PnzL126dP78+a5duxrPj8n0d7vdWVlZM2bMeO211xBtU6ZMmXFtWbJkCeLbq/A7S9jKM9pMhprk2g3lJ8aiGQhJrn388cde4wyNmzdvNq5b44rKycmZ++uSlpaG3ElLS/u1eW5OTg6qzlMY9+92u+fPn6//5Ai7gPD7AMFkrgUcamau1xYtWqRuEgcMGDB9+vQhQ4ZMmTJl6NCh6iimTZvmOTP6Fr+zBJg+U6PHCMC8Couu13CyBSDkes2ieCmybkOSa3PmzNn363L69Gl1Yp08efLXtn3Tp08PJtf05aEehqpCHTZsmH6VgTZTsQbR5jfUTH7vPZhQM5NrkydPRhCraEOopaamDh482PiSzcwsud1uz1BTO9U/ITX4WUiuFVm1l5wdh/y9XKvf87Au13xdtZkJNTO59vjjj6sHBStXrizQ7Sf+l+A3d/Sf6CPg9CI9Pd0gcfz27xlqo0eP1u/UTLRJrpWceCmyI5VcozqnqzaToWYm1wYPHoxbJPOfqSHUTF6vTTZc5syZQ8ert2ZyTX+3rj5To8/aiuo9D8xtAELuQ4ssgCzaseSavrCVRrSZDzUzuZaTk6NKLrBQM5Nr8+fPx1MOr8LzYPUtZnItIyNDvZerf1CAaBs5cqTxra51zw0CiDNsIrlmUbwUWbchz7XMzMyT15ZJkybprzWMtZmKUhU4ceLEkb8u5nPHfP+ItilTpuhr3q/2+9wgIyNj5syZvXr1atSokfFs+Fpb0KPwO2YCTPafmZk5efJk2jY7O3vChAl+Qy3kuXbgwIFnn33WVzD5au/YsePhw4cl14osd6zecchzzVdNGrebrCiqJfPW6v7NXK8Zz4CZtVYfhdX9q59XaD9fe/75532Fl3H7gAEDJNesjpci619yzXw4GpN+r9fMJJcxY3XuWN2/FbnWuHFj5BdyykAAbtKkCTA0kpD3cossmILcseSacVqZXyu5ZnKuQnu9RklUICu5FmR6hO/mkmsmq9EvJrnmd4oUILkWvnFQbEYWkvdyje+ezKy1+g7I6v7l8zWToRby5wb6CzRcfxkIr7y+Ua/lPjRSg05yzXxBGpNyvWY8P1gr12uRGhYRNG6TuXbjv9gtTmYg8BmQXIugfIjUoZrMtSRZZAZCNAPW5ZrB7SdW6W8zvTbqAbkPLea55pRFZiBEM2BdrukjyYyWXIvU2PI7bpPXayE6paUbmQGn5JrfqhQg2BmQXJOkKeQZCG2u4ZorGOHr4k7uQ4PNl6LaXnKtkKtadie5VlTFXoL2a/K9XKlGmYFQzYDkWgnKl6I6VMm1UJWr9GNyBkKSa77uHEPbLvehRZVLwe5Xcs1kNQoWqhmQXAu2aGV7vzMQklx76KH7tc9KJTf4e6hOfV/9PPn4Xzcs+B/ts1L16/6vL0baw3wGJNf8VqUAwc5AZOXa2tm39ni26tV9UZJrYR5eBsOTXAu2aGV7vzNgaa698sIfDqyN/e/quB2v35ScdK/T6dy3qlz/rnerk753xz//d3Wc0+l8/p9/3rcqbu/KcluX3NykYf5F3/+1qv752thVmbftfqu8Z4VIrnnOSZG3jB5w18F3Yvetikvt5lg755YR/7rL15Ak1/xWpQDBzoB1uZZYu8bZHdFJ124YF078nXvq/3M6nWMHVnkn+xZ1xr8x4/bJL1duWO/eMzuimyf/zel0jkq9a8uiCk6n84kWf734iW1o3z94rQ3JNa/TUoSNLZr87eT26MTaNR5+6P73l9x8dqe98bX/jXkdkuRasEUr2/udAetyTX9Ov9jjTx+4b3Y6nQ0S//fcR/b4mvc98IDzh60xjzb8+8vP//E/OflZ5nQ6E+Lvu7ov6uGH7m/z2F9/+dT24IP36zuBllzDVISJeLX/HzYs+B81mAHdHMe3lDYYmOSa36oUINgZCMl7uV6fGzz44P0LJ/5u91vlP1x208F3Yrcvu0md61sWVRjQzfGPNvd8/Gb+Peaklyuf3Wn/fG0s/jSod2+bx/76w9YYX7UhueZrZoqqfdrQSm9n3Kb2/kSLv+5blf/xgq9Fci3YopXt/c6Adbk2uNef9q2Ke+Th/GuuIb3/iFx7scef1sy+NWvUnaNS8z+CeanXnzZfu/fUl0Gbx/76veSafkbCW49MvQvXay89/0e5XvNbdwJYOwPW5droAXdtWph/g5lYu8b2pTd/sqKcqk1XzfuObyn9xbpY9dFbg2ufr7Vokv/5Wuenq6mMk1wL7xzj0T31+F9Pf5j/+Vot132bF1X45dOomo94/wwh/1PUa0uVMF4qV65cqVKlihUrynu51qaPdb2HMNfO7rSf2RGt/nRtV61+3f/ds7LcgbWxmxZWaNuq+vfvl56aVkkVxIrXbtu6JP/jNrU8/88/f7Y67rPVWdIrNQAAGJRJREFUcXtWlvu/VtWdTqfXXEusXeP7rTHfb43RPiv14wf5QiXjr93If4tyBmaNvPPbTWX2rYrr8NRfPlsd1+npar5GI7lmXTlLz9dnICS55usM9tqeEH/f3pXluj1T1etaaSz2M2Ay10L7jajAepPrtUgNykLOtfRXfv/NxjITX6pc7KtXDtDXDEiuRWpYRNC4CznXfJ3r0l5yZkByLYLyIVKHKrlWcgIlTI5Uci1SwyKCxh2S93LDpGBkGBExA5JrEZQPkTpUybWIyILiNEjJtUgNiwgat+RacYqMiDgWybUIyodIHarkWkRkQXEapORapIZFBI3bZK6F8cvhMrQImwHJtQjKh0gdquRahKVC5A83yFwL5t/TM97W891deS+32ObakCFD1Ikof8sMhGoGhgwZ4jefPVNGtRhnUzBrPfcouVZsc61hw4YSbaGqZ+ln1KhRQ4YMadCgQZC55plBwbSoNPTsQXItUnPN73u5fs8/AWQGrJgBz5RRLb4yyBdvpt1Xn5JrkmtWnNvSZ8mdAV955CuDfPFm2n31KbkmuVZyK1CO3IoZ8JVHvjLIF69vf+GFF/bv33/hwoX9+/e/8MILWOWrT8k1yTUrzm3ps+TOAEKHhK8MIszTvvDCC2pb/I1o89Wn5JrkWsmtQDlyK2bAM5hUi68MUms7deo0ePBgr9vu378fiabE/v37jfuUXCu2uSbPQ+UhZmhnwNLnoevXrz99+nSTJk08o+3ChQuUaxcuXJBci9TkMh633+eh8pJHaKtaelOvevi9xPMMJuMMcrlcrVq1unr1qqZp69ev99xcrteMo6BYrfWba6oOHbLIDIRoBtQZZUWuLV68GFdknnej8vlasUou44Mx+T2qEJ3S0o3MgMOiXGvQoMH58+eRa17vRuV5qHEaFJ+1kmuSNIU8Axbl2uTJkxFqSni9G/W8P3W5XIr3XCXPDSI16STXCrmqZXdW5FqtWrW+++47yjVN0zzvRj3DS3ItUsPLYNySaxI0hTwDVuTa4MGDPUNN0zT93eiL1xbJNYM0KD6rJNcKuapld1bk2t69e73mGp6NNmjQ4MdrS4MGDTyjTe5Di0+iqSORXJOgKeQZCHmuderUyVeoqfbBgwcvX75c6eXLl0uuFbcU8zweybVCrupitru//LqYP66Q59r69euNc+3cuXN5eXmKycvL69q1K0WbWkWNLpdLnht4JkZktEiumS9IIWkGmjRp8tqvS3JyMq31ZUObay1btlTv4hpHm37t119/XadOHX2KSa5FRlqZH6W8l+ur/KTd7ww0b97811h7rXnz5n55BYQ21/Tv4urDy1jPmjVLcs18SkQeGWSuHThwwNcJZPIsDwx74IEHtm7devHixTNnztxzzz2BdSJbBTkDRZ5r9C6ur1PRs/3SpUtt27ZFtCkAFkLuQyMv0dSIg8y1rKys1deWgwcPapp27NgxZVevXh1kzRhvPmHCBE3T9u7dO3jw4KpVqxrDstaiGSjyXPN8F9czwny1fPLJJ/Hx8SrCJNciNb98jTvIXEPBqDNs5cqVaLFULFy4UNO0sWPHWroX6dx4Boo213y9i+sryDzbx4wZI7nmKxkiu926XLty5crly5dbt259/Pjx7Oxsh8ORnJy8YcOG06dPX7hwYdeuXU8++aQqm8vXlvj4eHVreeDAgbZt26pVjz766MaNG0+dOvXzzz9/8cUXI0aMuPvuu7dt26Y/R6tfW2bMmPHNN99cvnz5xIkTb7zxxiOPPKJ68ByG2l1SUtKePXsuXry4adOme++9d8SIEadOnfrxxx+HDRtmXMwleW2zZs1a65ZevXrh87VevXrp1rRu2rSpr4kK1edrvt7F1Z8bxvr8+fPNmzeX7xtEdoR5Hb11ufbTTz9pmrZv377du3ePHz++evXqJ06c0DRt/PjxaWlpv/zyS25u7v333+9wOBS5a9eu119/fc+ePZqm/fjjj/fcc0/VqlVPnDiRm5s7cuTIgQMHbtu27ezZs506dfrnP/+pom3NmjUvvvhi1apV33nnHU3T9uzZM2rUqHXr1mma9vXXX1evXh2dYxho2bFjh9vtPnv2rKZpGzdu3Ldv35o1azRNu3r1at26dX3VZAlvR4qZEb7mKlS5ZvAurnGc6ddu3LhRcs1rMkR2o3W5pn6N35QpU9T5Xa1atcTERPU2QNWqVVUwtW/f3uFwKDItLc3hcPztb39TtmHDhvHx8ZqmHT16NCkpiYokJydH07QxY8aoy0BN03766af77rtPYerDvr59+6JzDAMt//rXvxwOx/DhwzVNu3DhQo0aNRwOhyqVXr160e7EqhkwE2dgfE1aqHINn+4HL1TSefYjzw0iNd2szrXGjRvj/B42bNhXX311+fJl/A+ze/fuCJp69eopUj1jTUlJ0d9yHjt27K233urQoYNi9Lmmfq/Wnj17sKPXX39d07SMjAx0rh+Gys3ExESHw9GxY0dN0z7++GO17cqVKzVNGzRoELoSoZ8BZJZfMXPmTP2Geh2SXMMpFEIhuRapKeY57lC9l+v53EDFh8vlUud0586d1cVXmzZtEhISdu3apWmaPtdAqt9r2qZNG4fDUa1atb59+y5fvvzw4cPqDE5NTXU4HPpc69evn3o2iuJ54403NE177bXXkGvonFrat2+vadq2bdvUtm+++ab6JRDoSoR+BurVq5esW7p06YKA69Kli25NMv4vpd9cack1zzKUlhDPQKHl2vTp0zVNW7p0qcPhqFGjRm5urqZpPXr0oKBxOBz6XNNXRc+ePTVNW7duHeVa48aNNU27ePGiupf885//fOjQIU3Tevbs6dk5tUiu6We4oLpInod6XlVZ1yL3oSGOm0LrrtByLTU1VdO0U6dOjR8//tNPP1Ufga1atapevXp0ZYdca9my5fHjxz/99NOBAwempqauXbtW07RRo0ZRrjkcDvXcYPfu3SNHjty0aZN6XlGtWjVKMVW3+t1JrhU0y/S85Fqh1ansqGAzUGi5Vq1atWXLluXm5p48eXLy5MkJCQmff/756dOn+/Tpow8aul4bMmSI+odsL168+MUXX4wePfruu+/2zLXq1aunp6cfPXr08uXL33//fU5ODp4hUOeUdJJr+pwqqJZcK1ixCV1oMxCqXCtoSQhfDGZAcq3Q6lR2VLAZkFwrBvlSVIfQoEGDqb8uDRo0MDmMIJ8bWPdpmmfP8vlawdIkfGjJNZPVKFioZkByLXzKv9iORHItVOUq/ZicAcm1Ypsm4XNgoXov1+Q5LZjMgORa+JR/sR2J5JoETSHPgORasU2T8DkwybVCrmrZnclcq1J0S+XKlStVqlSxYkV5bhA+SVWwkUiuSdAU8gxIrhWsRIUOYAYk1wq5qmV3JnPN862Lwm+R67UAIiUsNpFck6Ap5BmQXAuLyi/eg5BcK+Sqlt1JrhXvSAmLozOZa4V/C+Brj/pPk30xhd8uozI/55JrYVH5xXsQJt/LNX/WWk1Kgpif4fCcK8m14h0pYXF0kmvmY8KADM8ECc9RSa6FReUX70FIrhmklflV4Zkg4TkqybXiHSlhcXSSa+bDy4AMzwQJz1FJroVF5RfvQUiuGaSV+VXhmSDhOSrJteIdKWFxdJJr5sPLgAzPBAnPUUmuhUXlF+9BlPBc69Spk0FamV8VngkSnqOSXCvekRIWR1dic61FixZr167Ny8szH14GZHgmSHiOSnItLCq/eA+iBL6XW69evaysrIsXL6p/kNQgrcyvCs8ECc9RBZlr7777rue/hXz16tWxY8ea/3mZJOX7oZGaflbn2nPPPYdzSNM0aH07Gs2IYGo1Pj5+6NChP/zwg74wHnvssYSEBDO7NmCCGZVBt0GuCsmo9OmPn6C+saCDDDLXjh07pv/xQZ8/f75JkyYFHYwxL7kmueb9DNm2bRtWoCpcLpe+HYAZEXCtdu7ced++fSgDvbh69eqJEyfWr1+flpbWsGFDM8MgJuBRUT+htSEZlZooNTD8BPWNBR2zRbmm/tXtgg7GmJdck1zzcoZ06NABlUCrNU3r0KEDNZqxAdRqixYt1D+crM8yX/rChQuZmZn169c3MxgwAYwK21onQjIqrxHmtdHkgQSZa5cvX/b1szPfnpeXt3r1ar8DllyTXPNykqh/et3LCpdL07RNmzZ5XWXcGECt1q9ff+7cub/88ov58/7EiRPdu3c3Hol+bQCj0m9uUicmJg4ePPjrr79es2bNyy+/7Dd8QzIqrxHmtdHkUQSZaydPnjT/czQmmzZtajxmyTXJNT5Dnn766by8PIPrtby8vKeffpo38+cDrtWWLVt6/cjZ16l/5cqV8ePH+xvO9fUBjyo+Pj4xMdHMXho3bjxlyhT9aJcsWVKrVi2DbQMelb5PtUd9i+va/5Z8/WSJ9LRB5prn52uffPJJ165dA/sAwXN4+hbJNck1/fmQr9euXUsloa8EtWrt2rW8mT8fZK126dKFPmVr1arVoEGD5s2bt2PHDhXE+uwYPXq0vxHlrzc/qlq1anXq1OmZZ575+OOPd+zYsXfv3qtXr27ZsuXgwYNz587dvXt3VlbWiBEjXnnllVdfffXf//53Zmbm0qVLd+/erR8V9KpVqwyGZ35UBp2ofSkAP0F9o8G2XleFNtdyc3OTk5O97ij4Rsk1ybUbzqI2bdpcvXqVzn5UBf6Hf/Xq1TZt2tywpT8TfK3Gx8enpaV9//33NDyXy9WzZ8+jR4+qdvX35cuXzdyQmh/V5s2b9f0HqXfu3GkwYeZHZdCJGqEC8BPUNxps63VVaHNt9uzZLperVq1abrf7u+++C2w+L1y4MGbMGM/RSq5Faq5Z9F7uihUrcIZ5ni7INU3TVqxY4RXw1RiSWnW5XImJiZmZmT/99BPtqH79+suWLcPgNU07duxY3bp1CSNrZlT169efPHmyvufg9aFDh+Lj42kwsGZGBdiXUIOktV4bifFlQ5trTzzxhMvlGj9+fJCTuXv3bs8BS65Jrv12VrRo0UL/0Oq3FTqlzsJPPvnk8uXLLVq00K3xI0NSq9hH8+bNofUCN9FqnOnp6fq1ntrMqMaMGRNk7Xnd/JVXXvEcj2oxMypf26Jd7RRWCa+NxPiyIcy1vXv3qr0cPHjQ6+SYb5wxY4bngCXXJNd+OyuWLl2qP59+W6FTCujXr19BXzsKSa3qBuJdNmrUSP/67rlz5+rUqeMdvdZqZlSvvvqqflpCpbdv3+5rYGZGpbb1OxjaRUF5/eYhzDX1HYN27dr5HY8xcPXqVa//c5Vck1y7fuo2bdr0559/1p9GOKfx6QzuQ10u18GDB3/++We/T9zRiflaxSaBiT59+uiPom/fvgb9mBnVgQMH9B2GSp85c8bXwMyMSm3rdzDAIIw38TUkl8sVqly7dOlS48aNXS7XwoULjQfjd+2OHTu8DlhyTXLt+omxYMECOo1wxnjNtbS0NE3TFixYAMxYmK9V437MrNW/UrB8+XKDTcyM6sSJEzQzwdjly5dv3bp13759Bi+jmBmVwUF5rtL/BD3XmmwJVa795z//UU8Mfvzxx2BmUtM0X/fykmuSa/lndaNGjS5cuEAnmdfTXTHqvDx69OiFCxcaNWrklaTGkNcq9a+37733Ho4FH+XoAWgzowr+sgKDOX36NHZtIMyMymBzi1aFKtcGDhzocrl69+6NaQlMXLx40dcbzpJrkmv5VZCVleV5bnktD4WpVWPHjtU0bdasWV5JaizMWp0+fToO5/jx4zQSvTUzqoEDB6K3YMR3331nfFOMgZkZlYL1Pw79pwTBr8VgIEKSa/jEk57wBDCxa9aswdhISK5JrrmSkpJyc3M9Tyw6V5TVF1LdunVPnjyZm5ublJTkFdY3mq9V/VaBaf21wKVLlww6MTOqvn37ek5OAC1Tp041GIl+lZlR6fnC0SHJtTfffNPlctWvXx+/byqAmVSb9O7d29eBS65Faq6F8PcU6a9u9CcZThr9pzMKwKr09HRN06ZPn44WX8Jkrb799tvv/ro8++yzvnozbtc/wTS+9TM5qtWrV+tnJgB97ty5tm3bGg8ba02OCrxfof8J+oV9ASHJta5du7pcrldeeSWAOdRv8uOPPxp8F01yraTnWmJioq8vJOP81leFOrewqmHDhufOnTt58qTfL0uarNX9+/fj9J0yZQp2VCChf0H3wIEDBtuaHNW8efMwqsBEZmamwTBolclR4cbTYEiqZ/wEDUi1ikait8Hn2tGjR9XbyDt27PA7EmNg4cKF+rGRllwr6bk2YcIEXycQnSvKep79quYnTJjglUejyVpVX3i4evXqzp07e/Togc0LJPbu3YuDeu+99wy2NTmqlJSUI0eOoM+CiqNHj7Zv395gGLTK5KjM5xr69ztykJ4iyFz79ttv58yZ43K5WrRoge/q+R2PL6Bdu3aeI0SL5FqJzrXatWvj65aeJxDOEr1QmL6ladOmv/zyy/fff1+7dm19O2mTtfriiy9Onz69RYsW8fHxXbt2bdasGfXj17Zs2fLSpUs4nBEjRhhsYnJULperWbNmqMYffvjhyy+//Oijj9LT08+dO/fVV1+p72l8+OGHP/7448mTJ7ds2XL58mXFHz9+3OQjY4zT/Kiwiafw/EkhBz1hMy1B5tr8+fPVd6dmzJiBn05g4uDBg8YDllwr0bk2YsQIgxPL66njtVreeOMNTdNClSBPPfVUdna2+i70Bx98YPA9Sq8j3L59Ow4qLy/POBkLlCAbN27UNG3z5s2eOdWiRYuOHTuqN2bUgOPj49XtcACfEhZoVF4nwVeEef3x+eqB2oPMNfTm63ec4KfmV0yaNAm9eRWSayU312rVqvXNN98YnEM4Y/DpjK9qadWq1dWrV7/55huDj3LN1yr9tjW/d7gYp+cH0suWLdOv9dTmR6VeuNc0Tb1+5dmVZ8ucOXM0TTP/lQz0UKBRYSsS+gjDT1DfSLxfG6pcGzNmjOfLkgbnIa3au3evr9fWcAiSayU319QXBuik0VucJagKX7mG39qWlpaGrUiYr9VWrVrpbyQvXrxo8lcP9u7d+9y5cziEo0eP+i0A86NyuVzZ2dmapqnrMjo6rzYnJ0fTNOPbc68bFmhUXnugnxR+gmpyfG1i3B6qXDPeS0jWSq6V0FyLj4//8ssvEQFehdczzFdh/OMf/9A07csvv/R121igWlUJovY1c+bMunXrvvTSSwYXg3Xq1MnJydH/dsm8vDwzjx0KNKqMjIyDBw8++uijXmfGs/HNN988f/68Z7vflgKNyldvXn9SXht99UDtkmuRGhYRNO4gf//agAED1Clu8Ded1soaFMb777+vadqAAQO8bligWq1Vq5b6MEv9Ix3qX2/5+uuvBw8erL4yjV08/fTTkyZN8vx1N8ZfC8XmBRoVtrJahGRUXn9SXhtNHo7kWgTlQ6QONchc++yzzwwSzeDsN1jVtWtXTdM+++wzr3VS0FqtW7fu4sWL69SpM2vWLBrqt99+2/3a4uvNu/fee8/vHagaZEFH5fXQQt4YklF5/Ul5bTQ5fsm1SA2LCBp3MLlGv8mHUgMWpzs+ncGnNmC8ij59+mBbiMBqtWPHjvq7S+zu5WsLLMRPP/1k/FgW41EisFFRJyG3IRmVmhM1NvwE9Y0FHbbkWgTlQ6QONZhcM/mgHec9qsJkrnn91cwB12qXLl0++eQTJJcSXnNt3759hf+vLmCWQigCniv9GPQRhp+gvlEPm9GSa5EaFhE07mByzcxJHHImyFrt37//tm3bzpw545lrV69e3b59+/DhwxMSEgo67CBHVdDdmeTDc1SSaxGUD5E61JKWa0gE9c/rPfXUU23btn311Ve7detGTxJAmhHhmSDhOSrJtUgNiwgad4nNNTNpZZ4JzwQJz1FJrkVQPkTqUCXXzIeXARmeCRKeo5Jci9SwiKBxh/D3rxmUfQhXhWetyqjM/4gl1yIoHyJ1qJJr5gvSgJRcM5gcWiW5FqlhEUHjllyjqgvMSq6ZnzeTuaaf0kLWlStXrlSpUsWKFeX7oREUZTcMVXLNfEEakPrCM8AKeVV4jkpy7YYKFGPFDEiuhSRrwjNBwnNUkmtWFLL0ecMM+M21IUOGqBNR/pYZCNUMDBkyRJ+54ablPvSGjIhE4zfXGjZsKNEWqnqWfkaNGjVkyJAGDRqEW5bpxyO5FolRdsOY/eaa/uctWmagJMyA5NoNGRGJxu97uSXhPJZjlBnQz4DkWiRG2Q1jllzTn9CiZQaqVKkiuXZDRkSikVyTSpYZoBmQXIvEKLthzJJrdE6LlRmQXLshIyLR+M01eR4qDzFDOwPyPDQSgyLCxuw31+Qlj9BWtfSmXvUI56tCuV6LsBTzHK7fXFN16JBFZiBEM6DOqIjItf8P4+WczNYWZpQAAAAASUVORK5CYII=)\r\n",
        "   ![image.png](data:image/png;base64,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)\r\n",
        "\r\n",
        "  as of now I prefer 32 by 32 and set the default to it, feel free to choose anysize, but this will cause the program to run slower if you do change the size and the output is to big you can always change the value in cell one on line 73 and call `adjust_font()`\r\n",
        "3. download the file from  https://drive.google.com/file/d/1DUSaMsFMW5b-mT_c0XF1Peh_nbWqB8Qo/view?usp=sharing  (TODO sourcecode?)\r\n",
        "4. click the plus next to the create new pallete\r\n",
        "\r\n",
        "  ![image.png](data:image/png;base64,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)\r\n",
        "5. click import from file and select the file you just downloaded called `pixelIpynb16palet.gpl`\r\n",
        "6. you know can draw maps for help on how to use piskel press the `?` key or watch https://youtu.be/23DwHNWxaPk?t=1186 .\r\n",
        "7. when your done with your map export the image as a single frame png.\r\n",
        "8. upload your map to the colab.\r\n",
        "9. copy the path of the map and run `load_pattern(\"paste_path_here\")`\r\n",
        "10. run the code block! you did it!\r\n",
        "you can also check out https://drive.google.com/drive/folders/1mZBA8ZKENERJ07jQi9AJ47XoQjC1kq83?usp=sharing for some available of patterns/maps\r\n",
        "---\r\n",
        "\r\n"
      ]
    },
    {
      "cell_type": "code",
      "metadata": {
        "id": "lDYv9DeEsLoU",
        "colab": {
          "base_uri": "https://localhost:8080/",
          "height": 17
        },
        "outputId": "9b79d1d6-268f-4243-c060-42ab84c5760e"
      },
      "source": [
        "def load_pattern(patternpath):\r\n",
        "    \r\n",
        "    im = Image.open(patternpath)\r\n",
        "    im.load\r\n",
        "    im_array = np.asarray(im)\r\n",
        "    for i in range(len(im_array)):\r\n",
        "      for j in range(len(im_array[i])):\r\n",
        "        channel_r = im_array[i][j][0]\r\n",
        "        channel_g = im_array[i][j][1]#improve dork code?\r\n",
        "        channel_b = im_array[i][j][2]#VERY BAD CODE INCOMING! wait nevermind vga values and rgb values are not tied together or defined anywhere else still processor heavy i think.\r\n",
        "        if   channel_r == 255 and channel_g == 0   and channel_b ==0 :\r\n",
        "          grid[i][j] = Lred\r\n",
        "        elif channel_r == 255 and channel_g == 255 and channel_b == 0 :\r\n",
        "          grid[i][j] = Lyellow\r\n",
        "        elif channel_r == 255 and channel_g == 255 and channel_b == 255 :\r\n",
        "          grid[i][j] = Lwhite\r\n",
        "        elif channel_r == 255 and channel_g == 0   and channel_b == 255 :\r\n",
        "          grid[i][j] = Lpurple\r\n",
        "        elif channel_r == 136 and channel_g == 0   and channel_b == 0 :\r\n",
        "          grid[i][j] = red\r\n",
        "        elif channel_r == 136 and channel_g == 136 and channel_b == 0 :\r\n",
        "          grid[i][j] = yellow\r\n",
        "        elif channel_r == 136 and channel_g == 136 and channel_b == 136 :\r\n",
        "          grid[i][j] = gray\r\n",
        "        elif channel_r == 136 and channel_g == 0   and channel_b == 136 :\r\n",
        "          grid[i][j] = purple\r\n",
        "        elif channel_r == 0   and channel_g == 0   and channel_b == 0 :\r\n",
        "          grid[i][j] = black\r\n",
        "        elif channel_r == 0   and channel_g == 0   and channel_b == 255 :\r\n",
        "          grid[i][j] = Lblue\r\n",
        "        elif channel_r == 0   and channel_g == 255 and channel_b == 255 :\r\n",
        "          grid[i][j] = Lcyan\r\n",
        "        elif channel_r == 0   and channel_g == 255 and channel_b == 0 :\r\n",
        "          grid[i][j] = Lgreen\r\n",
        "        elif channel_r == 0   and channel_g == 0   and channel_b == 136 :\r\n",
        "          grid[i][j] = blue\r\n",
        "        elif channel_r == 0   and channel_g == 136 and channel_b == 136 :\r\n",
        "          grid[i][j] = cyan\r\n",
        "        elif channel_r == 0   and channel_g == 136 and channel_b == 0 :\r\n",
        "          grid[i][j] = green\r\n",
        "        else: \r\n",
        "          grid[i][j] = gray"
      ],
      "execution_count": null,
      "outputs": [
        {
          "output_type": "display_data",
          "data": {
            "application/javascript": [
              "\n",
              "  for (rule of document.styleSheets[0].cssRules){\n",
              "    if (rule.selectorText=='body') {\n",
              "      rule.style.fontSize = '7px'\n",
              "      break\n",
              "    }\n",
              "  }\n",
              "  "
            ],
            "text/plain": [
              "<IPython.core.display.Javascript object>"
            ]
          },
          "metadata": {
            "tags": []
          }
        },
        {
          "output_type": "display_data",
          "data": {
            "application/javascript": [
              "\n",
              "  for (rule of document.styleSheets[0].cssRules){\n",
              "    if (rule.selectorText=='body') {\n",
              "      rule.style.fontSize = '7px'\n",
              "      break\n",
              "    }\n",
              "  }\n",
              "  "
            ],
            "text/plain": [
              "<IPython.core.display.Javascript object>"
            ]
          },
          "metadata": {
            "tags": []
          }
        },
        {
          "output_type": "display_data",
          "data": {
            "application/javascript": [
              "\n",
              "  for (rule of document.styleSheets[0].cssRules){\n",
              "    if (rule.selectorText=='body') {\n",
              "      rule.style.fontSize = '7px'\n",
              "      break\n",
              "    }\n",
              "  }\n",
              "  "
            ],
            "text/plain": [
              "<IPython.core.display.Javascript object>"
            ]
          },
          "metadata": {
            "tags": []
          }
        },
        {
          "output_type": "display_data",
          "data": {
            "application/javascript": [
              "\n",
              "  for (rule of document.styleSheets[0].cssRules){\n",
              "    if (rule.selectorText=='body') {\n",
              "      rule.style.fontSize = '7px'\n",
              "      break\n",
              "    }\n",
              "  }\n",
              "  "
            ],
            "text/plain": [
              "<IPython.core.display.Javascript object>"
            ]
          },
          "metadata": {
            "tags": []
          }
        },
        {
          "output_type": "display_data",
          "data": {
            "application/javascript": [
              "\n",
              "  for (rule of document.styleSheets[0].cssRules){\n",
              "    if (rule.selectorText=='body') {\n",
              "      rule.style.fontSize = '7px'\n",
              "      break\n",
              "    }\n",
              "  }\n",
              "  "
            ],
            "text/plain": [
              "<IPython.core.display.Javascript object>"
            ]
          },
          "metadata": {
            "tags": []
          }
        }
      ]
    },
    {
      "cell_type": "code",
      "metadata": {
        "id": "Ikc9XZb-N6G6",
        "colab": {
          "base_uri": "https://localhost:8080/",
          "height": 315
        },
        "outputId": "80660ecd-efa6-4423-bc28-9aa33dfa7823"
      },
      "source": [
        "#apply wireworld rule set and print after tick \n",
        "def rule_wireworld():\n",
        "  global grid\n",
        "  #cell states\n",
        "  electron_head = Lyellow\n",
        "  electron_tail = yellow\n",
        "  conductor = Lwhite\n",
        "  #map states used\n",
        "  grid2 = copy.deepcopy(grid)\n",
        "  for j in range(Y): #IF I electron head\n",
        "    for k in range(X):\n",
        "      if grid[j][k] == electron_head: #if electron head -> electron tail\n",
        "        grid2[j][k] = electron_tail \n",
        "  for j in range(Y): #IF I electron tail\n",
        "    for k in range(X):\n",
        "      if grid[j][k] == electron_tail: #if electron tail -> conductor\n",
        "        grid2[j][k] = conductor\n",
        "  for j in range(Y): #IF I conductor\n",
        "    for k in range(X):\n",
        "      heads = 0\n",
        "      if grid[j][k] == conductor: #if conductor and next to head -> \n",
        "        testlist = checkadjacent(j,k, \"\")\n",
        "        for i in testlist: \n",
        "          if i == electron_head:    \n",
        "            heads = heads + 1\n",
        "            if heads >= 3:\n",
        "              grid2[j][k] = conductor\n",
        "            elif heads <= 2:\n",
        "              grid2[j][k] = electron_head\n",
        "  grid = copy.deepcopy(grid2)\n",
        "rule_wireworld()\n",
        "frameprint()"
      ],
      "execution_count": null,
      "outputs": [
        {
          "output_type": "display_data",
          "data": {
            "application/javascript": [
              "\n",
              "  for (rule of document.styleSheets[0].cssRules){\n",
              "    if (rule.selectorText=='body') {\n",
              "      rule.style.fontSize = '7px'\n",
              "      break\n",
              "    }\n",
              "  }\n",
              "  "
            ],
            "text/plain": [
              "<IPython.core.display.Javascript object>"
            ]
          },
          "metadata": {
            "tags": []
          }
        },
        {
          "output_type": "display_data",
          "data": {
            "application/javascript": [
              "\n",
              "  for (rule of document.styleSheets[0].cssRules){\n",
              "    if (rule.selectorText=='body') {\n",
              "      rule.style.fontSize = '7px'\n",
              "      break\n",
              "    }\n",
              "  }\n",
              "  "
            ],
            "text/plain": [
              "<IPython.core.display.Javascript object>"
            ]
          },
          "metadata": {
            "tags": []
          }
        },
        {
          "output_type": "display_data",
          "data": {
            "application/javascript": [
              "\n",
              "  for (rule of document.styleSheets[0].cssRules){\n",
              "    if (rule.selectorText=='body') {\n",
              "      rule.style.fontSize = '7px'\n",
              "      break\n",
              "    }\n",
              "  }\n",
              "  "
            ],
            "text/plain": [
              "<IPython.core.display.Javascript object>"
            ]
          },
          "metadata": {
            "tags": []
          }
        },
        {
          "output_type": "display_data",
          "data": {
            "application/javascript": [
              "\n",
              "  for (rule of document.styleSheets[0].cssRules){\n",
              "    if (rule.selectorText=='body') {\n",
              "      rule.style.fontSize = '7px'\n",
              "      break\n",
              "    }\n",
              "  }\n",
              "  "
            ],
            "text/plain": [
              "<IPython.core.display.Javascript object>"
            ]
          },
          "metadata": {
            "tags": []
          }
        },
        {
          "output_type": "display_data",
          "data": {
            "application/javascript": [
              "\n",
              "  for (rule of document.styleSheets[0].cssRules){\n",
              "    if (rule.selectorText=='body') {\n",
              "      rule.style.fontSize = '7px'\n",
              "      break\n",
              "    }\n",
              "  }\n",
              "  "
            ],
            "text/plain": [
              "<IPython.core.display.Javascript object>"
            ]
          },
          "metadata": {
            "tags": []
          }
        },
        {
          "output_type": "stream",
          "text": [
            "\u001b[40m  \u001b[40m  \u001b[40m  \u001b[40m  \u001b[40m  \u001b[40m  \u001b[40m  \u001b[40m  \u001b[40m  \u001b[40m  \u001b[40m  \u001b[40m  \u001b[40m  \u001b[40m  \u001b[40m  \u001b[40m  \u001b[40m  \u001b[40m  \u001b[40m  \u001b[40m  \u001b[40m  \u001b[40m  \u001b[40m  \u001b[40m  \u001b[40m  \u001b[40m  \u001b[40m  \u001b[40m  \u001b[40m  \u001b[40m  \u001b[40m  \u001b[40m  \u001b[40m  \u001b[40m  \u001b[40m  \u001b[40m  \u001b[40m  \u001b[40m  \n",
            "\u001b[40m  \u001b[40m  \u001b[40m  \u001b[40m  \u001b[40m  \u001b[40m  \u001b[40m  \u001b[40m  \u001b[40m  \u001b[40m  \u001b[40m  \u001b[40m  \u001b[40m  \u001b[40m  \u001b[40m  \u001b[40m  \u001b[40m  \u001b[40m  \u001b[40m  \u001b[40m  \u001b[40m  \u001b[40m  \u001b[40m  \u001b[40m  \u001b[40m  \u001b[40m  \u001b[40m  \u001b[40m  \u001b[40m  \u001b[40m  \u001b[40m  \u001b[40m  \u001b[40m  \u001b[40m  \u001b[40m  \u001b[40m  \u001b[40m  \u001b[40m  \n",
            "\u001b[40m  \u001b[40m  \u001b[40m  \u001b[40m  \u001b[40m  \u001b[40m  \u001b[40m  \u001b[40m  \u001b[40m  \u001b[40m  \u001b[40m  \u001b[40m  \u001b[40m  \u001b[40m  \u001b[40m  \u001b[40m  \u001b[40m  \u001b[40m  \u001b[40m  \u001b[40m  \u001b[40m  \u001b[40m  \u001b[40m  \u001b[40m  \u001b[40m  \u001b[40m  \u001b[40m  \u001b[40m  \u001b[40m  \u001b[40m  \u001b[40m  \u001b[40m  \u001b[40m  \u001b[40m  \u001b[40m  \u001b[40m  \u001b[40m  \u001b[40m  \n",
            "\u001b[40m  \u001b[40m  \u001b[40m  \u001b[40m  \u001b[40m  \u001b[40m  \u001b[40m  \u001b[40m  \u001b[40m  \u001b[40m  \u001b[40m  \u001b[40m  \u001b[40m  \u001b[40m  \u001b[40m  \u001b[40m  \u001b[40m  \u001b[40m  \u001b[40m  \u001b[40m  \u001b[40m  \u001b[40m  \u001b[40m  \u001b[40m  \u001b[40m  \u001b[40m  \u001b[40m  \u001b[40m  \u001b[40m  \u001b[40m  \u001b[40m  \u001b[40m  \u001b[40m  \u001b[40m  \u001b[40m  \u001b[40m  \u001b[40m  \u001b[40m  \n",
            "\u001b[40m  \u001b[40m  \u001b[40m  \u001b[40m  \u001b[40m  \u001b[40m  \u001b[40m  \u001b[40m  \u001b[40m  \u001b[40m  \u001b[40m  \u001b[40m  \u001b[40m  \u001b[40m  \u001b[40m  \u001b[40m  \u001b[40m  \u001b[40m  \u001b[40m  \u001b[40m  \u001b[40m  \u001b[40m  \u001b[40m  \u001b[40m  \u001b[40m  \u001b[40m  \u001b[40m  \u001b[40m  \u001b[40m  \u001b[40m  \u001b[40m  \u001b[40m  \u001b[40m  \u001b[40m  \u001b[40m  \u001b[40m  \u001b[40m  \u001b[40m  \n",
            "\u001b[40m  \u001b[40m  \u001b[40m  \u001b[40m  \u001b[40m  \u001b[40m  \u001b[40m  \u001b[40m  \u001b[40m  \u001b[40m  \u001b[40m  \u001b[40m  \u001b[40m  \u001b[40m  \u001b[40m  \u001b[40m  \u001b[40m  \u001b[40m  \u001b[40m  \u001b[40m  \u001b[40m  \u001b[40m  \u001b[40m  \u001b[40m  \u001b[40m  \u001b[40m  \u001b[40m  \u001b[40m  \u001b[40m  \u001b[40m  \u001b[40m  \u001b[40m  \u001b[40m  \u001b[40m  \u001b[40m  \u001b[40m  \u001b[40m  \u001b[40m  \n",
            "\u001b[40m  \u001b[40m  \u001b[40m  \u001b[40m  \u001b[40m  \u001b[40m  \u001b[40m  \u001b[40m  \u001b[40m  \u001b[40m  \u001b[40m  \u001b[40m  \u001b[40m  \u001b[40m  \u001b[40m  \u001b[40m  \u001b[40m  \u001b[40m  \u001b[40m  \u001b[40m  \u001b[40m  \u001b[40m  \u001b[40m  \u001b[40m  \u001b[40m  \u001b[40m  \u001b[40m  \u001b[40m  \u001b[40m  \u001b[40m  \u001b[40m  \u001b[40m  \u001b[40m  \u001b[40m  \u001b[40m  \u001b[40m  \u001b[40m  \u001b[40m  \n",
            "\u001b[40m  \u001b[40m  \u001b[40m  \u001b[40m  \u001b[40m  \u001b[40m  \u001b[40m  \u001b[40m  \u001b[40m  \u001b[40m  \u001b[40m  \u001b[40m  \u001b[40m  \u001b[40m  \u001b[40m  \u001b[40m  \u001b[40m  \u001b[40m  \u001b[40m  \u001b[40m  \u001b[40m  \u001b[40m  \u001b[40m  \u001b[40m  \u001b[40m  \u001b[40m  \u001b[40m  \u001b[40m  \u001b[40m  \u001b[40m  \u001b[40m  \u001b[40m  \u001b[40m  \u001b[40m  \u001b[40m  \u001b[40m  \u001b[40m  \u001b[40m  \n",
            "\u001b[40m  \u001b[40m  \u001b[40m  \u001b[40m  \u001b[40m  \u001b[40m  \u001b[40m  \u001b[40m  \u001b[40m  \u001b[40m  \u001b[40m  \u001b[40m  \u001b[40m  \u001b[40m  \u001b[40m  \u001b[40m  \u001b[40m  \u001b[40m  \u001b[40m  \u001b[40m  \u001b[40m  \u001b[40m  \u001b[40m  \u001b[40m  \u001b[40m  \u001b[40m  \u001b[40m  \u001b[40m  \u001b[40m  \u001b[40m  \u001b[40m  \u001b[40m  \u001b[40m  \u001b[40m  \u001b[40m  \u001b[40m  \u001b[40m  \u001b[40m  \n",
            "\u001b[40m  \u001b[40m  \u001b[40m  \u001b[40m  \u001b[40m  \u001b[40m  \u001b[40m  \u001b[40m  \u001b[40m  \u001b[40m  \u001b[40m  \u001b[40m  \u001b[40m  \u001b[40m  \u001b[40m  \u001b[40m  \u001b[40m  \u001b[40m  \u001b[40m  \u001b[40m  \u001b[40m  \u001b[40m  \u001b[40m  \u001b[40m  \u001b[40m  \u001b[40m  \u001b[40m  \u001b[40m  \u001b[40m  \u001b[40m  \u001b[40m  \u001b[40m  \u001b[40m  \u001b[40m  \u001b[40m  \u001b[40m  \u001b[40m  \u001b[40m  \n",
            "\u001b[40m  \u001b[40m  \u001b[40m  \u001b[40m  \u001b[40m  \u001b[40m  \u001b[40m  \u001b[40m  \u001b[40m  \u001b[40m  \u001b[40m  \u001b[40m  \u001b[40m  \u001b[40m  \u001b[40m  \u001b[40m  \u001b[40m  \u001b[40m  \u001b[40m  \u001b[40m  \u001b[40m  \u001b[40m  \u001b[40m  \u001b[40m  \u001b[40m  \u001b[40m  \u001b[40m  \u001b[40m  \u001b[40m  \u001b[40m  \u001b[40m  \u001b[40m  \u001b[40m  \u001b[40m  \u001b[40m  \u001b[40m  \u001b[40m  \u001b[40m  \n",
            "\u001b[40m  \u001b[40m  \u001b[40m  \u001b[40m  \u001b[40m  \u001b[40m  \u001b[40m  \u001b[40m  \u001b[40m  \u001b[40m  \u001b[40m  \u001b[40m  \u001b[40m  \u001b[40m  \u001b[40m  \u001b[40m  \u001b[40m  \u001b[40m  \u001b[40m  \u001b[40m  \u001b[40m  \u001b[40m  \u001b[40m  \u001b[40m  \u001b[40m  \u001b[40m  \u001b[40m  \u001b[40m  \u001b[40m  \u001b[40m  \u001b[40m  \u001b[40m  \u001b[40m  \u001b[40m  \u001b[40m  \u001b[40m  \u001b[40m  \u001b[40m  \n",
            "\u001b[40m  \u001b[40m  \u001b[40m  \u001b[40m  \u001b[40m  \u001b[40m  \u001b[40m  \u001b[40m  \u001b[40m  \u001b[40m  \u001b[40m  \u001b[40m  \u001b[40m  \u001b[40m  \u001b[40m  \u001b[40m  \u001b[40m  \u001b[40m  \u001b[40m  \u001b[40m  \u001b[40m  \u001b[40m  \u001b[40m  \u001b[40m  \u001b[40m  \u001b[40m  \u001b[40m  \u001b[40m  \u001b[40m  \u001b[40m  \u001b[40m  \u001b[40m  \u001b[40m  \u001b[40m  \u001b[40m  \u001b[40m  \u001b[40m  \u001b[40m  \n",
            "\u001b[40m  \u001b[40m  \u001b[40m  \u001b[40m  \u001b[40m  \u001b[40m  \u001b[40m  \u001b[40m  \u001b[40m  \u001b[40m  \u001b[40m  \u001b[40m  \u001b[40m  \u001b[40m  \u001b[40m  \u001b[40m  \u001b[40m  \u001b[40m  \u001b[40m  \u001b[40m  \u001b[40m  \u001b[40m  \u001b[40m  \u001b[40m  \u001b[40m  \u001b[40m  \u001b[40m  \u001b[40m  \u001b[40m  \u001b[40m  \u001b[40m  \u001b[40m  \u001b[40m  \u001b[40m  \u001b[40m  \u001b[40m  \u001b[40m  \u001b[40m  \n",
            "\u001b[40m  \u001b[40m  \u001b[40m  \u001b[40m  \u001b[40m  \u001b[40m  \u001b[40m  \u001b[40m  \u001b[40m  \u001b[40m  \u001b[40m  \u001b[40m  \u001b[40m  \u001b[40m  \u001b[40m  \u001b[40m  \u001b[40m  \u001b[40m  \u001b[40m  \u001b[40m  \u001b[40m  \u001b[40m  \u001b[40m  \u001b[40m  \u001b[40m  \u001b[40m  \u001b[40m  \u001b[40m  \u001b[40m  \u001b[40m  \u001b[40m  \u001b[40m  \u001b[40m  \u001b[40m  \u001b[40m  \u001b[40m  \u001b[40m  \u001b[40m  \n",
            "\u001b[40m  \u001b[40m  \u001b[40m  \u001b[40m  \u001b[40m  \u001b[40m  \u001b[40m  \u001b[40m  \u001b[40m  \u001b[40m  \u001b[40m  \u001b[40m  \u001b[40m  \u001b[40m  \u001b[40m  \u001b[40m  \u001b[40m  \u001b[40m  \u001b[40m  \u001b[40m  \u001b[40m  \u001b[40m  \u001b[40m  \u001b[40m  \u001b[40m  \u001b[40m  \u001b[40m  \u001b[40m  \u001b[40m  \u001b[40m  \u001b[40m  \u001b[40m  \u001b[40m  \u001b[40m  \u001b[40m  \u001b[40m  \u001b[40m  \u001b[40m  \n",
            "\u001b[40m  \u001b[40m  \u001b[40m  \u001b[40m  \u001b[40m  \u001b[40m  \u001b[40m  \u001b[40m  \u001b[40m  \u001b[40m  \u001b[40m  \u001b[40m  \u001b[40m  \u001b[40m  \u001b[40m  \u001b[40m  \u001b[40m  \u001b[40m  \u001b[40m  \u001b[40m  \u001b[40m  \u001b[40m  \u001b[40m  \u001b[40m  \u001b[40m  \u001b[40m  \u001b[40m  \u001b[40m  \u001b[40m  \u001b[40m  \u001b[40m  \u001b[40m  \u001b[40m  \u001b[40m  \u001b[40m  \u001b[40m  \u001b[40m  \u001b[40m  \n",
            "\u001b[40m  \u001b[40m  \u001b[40m  \u001b[40m  \u001b[40m  \u001b[40m  \u001b[40m  \u001b[40m  \u001b[40m  \u001b[40m  \u001b[40m  \u001b[40m  \u001b[40m  \u001b[40m  \u001b[40m  \u001b[40m  \u001b[40m  \u001b[40m  \u001b[40m  \u001b[40m  \u001b[40m  \u001b[40m  \u001b[40m  \u001b[40m  \u001b[40m  \u001b[40m  \u001b[40m  \u001b[40m  \u001b[40m  \u001b[40m  \u001b[40m  \u001b[40m  \u001b[40m  \u001b[40m  \u001b[40m  \u001b[40m  \u001b[40m  \u001b[40m  \n",
            "\u001b[40m  \u001b[40m  \u001b[40m  \u001b[40m  \u001b[40m  \u001b[40m  \u001b[40m  \u001b[40m  \u001b[40m  \u001b[40m  \u001b[40m  \u001b[40m  \u001b[40m  \u001b[40m  \u001b[40m  \u001b[40m  \u001b[40m  \u001b[40m  \u001b[40m  \u001b[40m  \u001b[40m  \u001b[40m  \u001b[40m  \u001b[40m  \u001b[40m  \u001b[40m  \u001b[40m  \u001b[40m  \u001b[40m  \u001b[40m  \u001b[40m  \u001b[40m  \u001b[40m  \u001b[40m  \u001b[40m  \u001b[40m  \u001b[40m  \u001b[40m  \n",
            "\u001b[40m  \u001b[40m  \u001b[40m  \u001b[40m  \u001b[40m  \u001b[40m  \u001b[40m  \u001b[40m  \u001b[40m  \u001b[40m  \u001b[40m  \u001b[40m  \u001b[40m  \u001b[40m  \u001b[40m  \u001b[40m  \u001b[40m  \u001b[40m  \u001b[40m  \u001b[40m  \u001b[40m  \u001b[40m  \u001b[40m  \u001b[40m  \u001b[40m  \u001b[40m  \u001b[40m  \u001b[40m  \u001b[40m  \u001b[40m  \u001b[40m  \u001b[40m  \u001b[40m  \u001b[40m  \u001b[40m  \u001b[40m  \u001b[40m  \u001b[40m  \n",
            "\u001b[40m  \u001b[40m  \u001b[40m  \u001b[40m  \u001b[40m  \u001b[40m  \u001b[40m  \u001b[40m  \u001b[40m  \u001b[40m  \u001b[40m  \u001b[40m  \u001b[40m  \u001b[40m  \u001b[40m  \u001b[40m  \u001b[40m  \u001b[40m  \u001b[40m  \u001b[40m  \u001b[40m  \u001b[40m  \u001b[40m  \u001b[40m  \u001b[40m  \u001b[40m  \u001b[40m  \u001b[40m  \u001b[40m  \u001b[40m  \u001b[40m  \u001b[40m  \u001b[40m  \u001b[40m  \u001b[40m  \u001b[40m  \u001b[40m  \u001b[40m  \n",
            "\u001b[40m  \u001b[40m  \u001b[40m  \u001b[40m  \u001b[40m  \u001b[40m  \u001b[40m  \u001b[40m  \u001b[40m  \u001b[40m  \u001b[40m  \u001b[40m  \u001b[40m  \u001b[40m  \u001b[40m  \u001b[40m  \u001b[40m  \u001b[40m  \u001b[40m  \u001b[40m  \u001b[40m  \u001b[40m  \u001b[40m  \u001b[40m  \u001b[40m  \u001b[40m  \u001b[40m  \u001b[40m  \u001b[40m  \u001b[40m  \u001b[40m  \u001b[40m  \u001b[40m  \u001b[40m  \u001b[40m  \u001b[40m  \u001b[40m  \u001b[40m  \n",
            "\u001b[40m  \u001b[40m  \u001b[40m  \u001b[40m  \u001b[40m  \u001b[40m  \u001b[40m  \u001b[40m  \u001b[40m  \u001b[40m  \u001b[40m  \u001b[40m  \u001b[40m  \u001b[40m  \u001b[40m  \u001b[40m  \u001b[40m  \u001b[40m  \u001b[40m  \u001b[40m  \u001b[40m  \u001b[40m  \u001b[40m  \u001b[40m  \u001b[40m  \u001b[40m  \u001b[40m  \u001b[40m  \u001b[40m  \u001b[40m  \u001b[40m  \u001b[40m  \u001b[40m  \u001b[40m  \u001b[40m  \u001b[40m  \u001b[40m  \u001b[40m  \n",
            "\u001b[40m  \u001b[40m  \u001b[40m  \u001b[40m  \u001b[40m  \u001b[40m  \u001b[40m  \u001b[40m  \u001b[40m  \u001b[40m  \u001b[40m  \u001b[40m  \u001b[40m  \u001b[40m  \u001b[40m  \u001b[40m  \u001b[40m  \u001b[40m  \u001b[40m  \u001b[40m  \u001b[40m  \u001b[40m  \u001b[40m  \u001b[40m  \u001b[40m  \u001b[40m  \u001b[40m  \u001b[40m  \u001b[40m  \u001b[40m  \u001b[40m  \u001b[40m  \u001b[40m  \u001b[40m  \u001b[40m  \u001b[40m  \u001b[40m  \u001b[40m  \n",
            "\u001b[40m  \u001b[40m  \u001b[40m  \u001b[40m  \u001b[40m  \u001b[40m  \u001b[40m  \u001b[40m  \u001b[40m  \u001b[40m  \u001b[40m  \u001b[40m  \u001b[40m  \u001b[40m  \u001b[40m  \u001b[40m  \u001b[40m  \u001b[40m  \u001b[40m  \u001b[40m  \u001b[40m  \u001b[40m  \u001b[40m  \u001b[40m  \u001b[40m  \u001b[40m  \u001b[40m  \u001b[40m  \u001b[40m  \u001b[40m  \u001b[40m  \u001b[40m  \u001b[40m  \u001b[40m  \u001b[40m  \u001b[40m  \u001b[40m  \u001b[40m  \n",
            "\u001b[40m  \u001b[40m  \u001b[40m  \u001b[40m  \u001b[40m  \u001b[40m  \u001b[40m  \u001b[40m  \u001b[40m  \u001b[40m  \u001b[40m  \u001b[40m  \u001b[40m  \u001b[40m  \u001b[40m  \u001b[40m  \u001b[40m  \u001b[40m  \u001b[40m  \u001b[40m  \u001b[40m  \u001b[40m  \u001b[40m  \u001b[40m  \u001b[40m  \u001b[40m  \u001b[40m  \u001b[40m  \u001b[40m  \u001b[40m  \u001b[40m  \u001b[40m  \u001b[40m  \u001b[40m  \u001b[40m  \u001b[40m  \u001b[40m  \u001b[40m  \n",
            "\u001b[40m  \u001b[40m  \u001b[40m  \u001b[40m  \u001b[40m  \u001b[40m  \u001b[40m  \u001b[40m  \u001b[40m  \u001b[40m  \u001b[40m  \u001b[40m  \u001b[40m  \u001b[40m  \u001b[40m  \u001b[40m  \u001b[40m  \u001b[40m  \u001b[40m  \u001b[40m  \u001b[40m  \u001b[40m  \u001b[40m  \u001b[40m  \u001b[40m  \u001b[40m  \u001b[40m  \u001b[40m  \u001b[40m  \u001b[40m  \u001b[40m  \u001b[40m  \u001b[40m  \u001b[40m  \u001b[40m  \u001b[40m  \u001b[40m  \u001b[40m  \n",
            "\u001b[40m  \u001b[40m  \u001b[40m  \u001b[40m  \u001b[40m  \u001b[40m  \u001b[40m  \u001b[40m  \u001b[40m  \u001b[40m  \u001b[40m  \u001b[40m  \u001b[40m  \u001b[40m  \u001b[40m  \u001b[40m  \u001b[40m  \u001b[40m  \u001b[40m  \u001b[40m  \u001b[40m  \u001b[40m  \u001b[40m  \u001b[40m  \u001b[40m  \u001b[40m  \u001b[40m  \u001b[40m  \u001b[40m  \u001b[40m  \u001b[40m  \u001b[40m  \u001b[40m  \u001b[40m  \u001b[40m  \u001b[40m  \u001b[40m  \u001b[40m  \n",
            "\u001b[40m  \u001b[40m  \u001b[40m  \u001b[40m  \u001b[40m  \u001b[40m  \u001b[40m  \u001b[40m  \u001b[40m  \u001b[40m  \u001b[40m  \u001b[40m  \u001b[40m  \u001b[40m  \u001b[40m  \u001b[40m  \u001b[40m  \u001b[40m  \u001b[40m  \u001b[40m  \u001b[40m  \u001b[40m  \u001b[40m  \u001b[40m  \u001b[40m  \u001b[40m  \u001b[40m  \u001b[40m  \u001b[40m  \u001b[40m  \u001b[40m  \u001b[40m  \u001b[40m  \u001b[40m  \u001b[40m  \u001b[40m  \u001b[40m  \u001b[40m  \n",
            "\u001b[40m  \u001b[40m  \u001b[40m  \u001b[40m  \u001b[40m  \u001b[40m  \u001b[40m  \u001b[40m  \u001b[40m  \u001b[40m  \u001b[40m  \u001b[40m  \u001b[40m  \u001b[40m  \u001b[40m  \u001b[40m  \u001b[40m  \u001b[40m  \u001b[40m  \u001b[40m  \u001b[40m  \u001b[40m  \u001b[40m  \u001b[40m  \u001b[40m  \u001b[40m  \u001b[40m  \u001b[40m  \u001b[40m  \u001b[40m  \u001b[40m  \u001b[40m  \u001b[40m  \u001b[40m  \u001b[40m  \u001b[40m  \u001b[40m  \u001b[40m  \n",
            "\u001b[40m  \u001b[40m  \u001b[40m  \u001b[40m  \u001b[40m  \u001b[40m  \u001b[40m  \u001b[40m  \u001b[40m  \u001b[40m  \u001b[40m  \u001b[40m  \u001b[40m  \u001b[40m  \u001b[40m  \u001b[40m  \u001b[40m  \u001b[40m  \u001b[40m  \u001b[40m  \u001b[40m  \u001b[40m  \u001b[40m  \u001b[40m  \u001b[40m  \u001b[40m  \u001b[40m  \u001b[40m  \u001b[40m  \u001b[40m  \u001b[40m  \u001b[40m  \u001b[40m  \u001b[40m  \u001b[40m  \u001b[40m  \u001b[40m  \u001b[40m  \n",
            "\u001b[40m  \u001b[40m  \u001b[40m  \u001b[40m  \u001b[40m  \u001b[40m  \u001b[40m  \u001b[40m  \u001b[40m  \u001b[40m  \u001b[40m  \u001b[40m  \u001b[40m  \u001b[40m  \u001b[40m  \u001b[40m  \u001b[40m  \u001b[40m  \u001b[40m  \u001b[40m  \u001b[40m  \u001b[40m  \u001b[40m  \u001b[40m  \u001b[40m  \u001b[40m  \u001b[40m  \u001b[40m  \u001b[40m  \u001b[40m  \u001b[40m  \u001b[40m  \u001b[40m  \u001b[40m  \u001b[40m  \u001b[40m  \u001b[40m  \u001b[40m  \n",
            "\u001b[40m  \u001b[40m  \u001b[40m  \u001b[40m  \u001b[40m  \u001b[40m  \u001b[40m  \u001b[40m  \u001b[40m  \u001b[40m  \u001b[40m  \u001b[40m  \u001b[40m  \u001b[40m  \u001b[40m  \u001b[40m  \u001b[40m  \u001b[40m  \u001b[40m  \u001b[40m  \u001b[40m  \u001b[40m  \u001b[40m  \u001b[40m  \u001b[40m  \u001b[40m  \u001b[40m  \u001b[40m  \u001b[40m  \u001b[40m  \u001b[40m  \u001b[40m  \u001b[40m  \u001b[40m  \u001b[40m  \u001b[40m  \u001b[40m  \u001b[40m  \n",
            "\u001b[40m  \u001b[40m  \u001b[40m  \u001b[40m  \u001b[40m  \u001b[40m  \u001b[40m  \u001b[40m  \u001b[40m  \u001b[40m  \u001b[40m  \u001b[40m  \u001b[40m  \u001b[40m  \u001b[40m  \u001b[40m  \u001b[40m  \u001b[40m  \u001b[40m  \u001b[40m  \u001b[40m  \u001b[40m  \u001b[40m  \u001b[40m  \u001b[40m  \u001b[40m  \u001b[40m  \u001b[40m  \u001b[40m  \u001b[40m  \u001b[40m  \u001b[40m  \u001b[40m  \u001b[40m  \u001b[40m  \u001b[40m  \u001b[40m  \u001b[40m  \n",
            "\u001b[40m  \u001b[40m  \u001b[40m  \u001b[40m  \u001b[40m  \u001b[40m  \u001b[40m  \u001b[40m  \u001b[40m  \u001b[40m  \u001b[40m  \u001b[40m  \u001b[40m  \u001b[40m  \u001b[40m  \u001b[40m  \u001b[40m  \u001b[40m  \u001b[40m  \u001b[40m  \u001b[40m  \u001b[40m  \u001b[40m  \u001b[40m  \u001b[40m  \u001b[40m  \u001b[40m  \u001b[40m  \u001b[40m  \u001b[40m  \u001b[40m  \u001b[40m  \u001b[40m  \u001b[40m  \u001b[40m  \u001b[40m  \u001b[40m  \u001b[40m  \n",
            "\u001b[40m  \u001b[40m  \u001b[40m  \u001b[40m  \u001b[40m  \u001b[40m  \u001b[40m  \u001b[40m  \u001b[40m  \u001b[40m  \u001b[40m  \u001b[40m  \u001b[40m  \u001b[40m  \u001b[40m  \u001b[40m  \u001b[40m  \u001b[40m  \u001b[40m  \u001b[40m  \u001b[40m  \u001b[40m  \u001b[40m  \u001b[40m  \u001b[40m  \u001b[40m  \u001b[40m  \u001b[40m  \u001b[40m  \u001b[40m  \u001b[40m  \u001b[40m  \u001b[40m  \u001b[40m  \u001b[40m  \u001b[40m  \u001b[40m  \u001b[40m  \n"
          ],
          "name": "stdout"
        }
      ]
    },
    {
      "cell_type": "code",
      "metadata": {
        "colab": {
          "base_uri": "https://localhost:8080/",
          "height": 94
        },
        "id": "7zpllOzuDf5z",
        "outputId": "998ebec9-92c8-45c6-8ba5-46f40b6547a5"
      },
      "source": [
        "def rule_static(): #WIP\r\n",
        "  electron_head = Lyellow\r\n",
        "  electron_tail = yellow\r\n",
        "  inpoot_static = cyan\r\n",
        "  inpoot = Lcyan\r\n",
        "  conductor = Lwhite\r\n",
        "  led_static = purple\r\n",
        "  led = Lpurple\r\n",
        "  toggle_static = red\r\n",
        "  toggle = Lred\r\n",
        "  grid2 = copy.deepcopy(grid)\r\n",
        "  for j in range(Y): #IF I electron head\r\n",
        "      for k in range(X):\r\n",
        "        if grid[j][k] == electron_head: #if electron head -> electron tail\r\n",
        "          grid2[j][k] = electron_tail \r\n",
        "    for j in range(Y): #IF I electron tail\r\n",
        "      for k in range(X):\r\n",
        "        if grid[j][k] == electron_tail: #if electron tail -> conductor\r\n",
        "          grid2[j][k] = conductor\r\n",
        "    for j in range(Y): #IF I conductor\r\n",
        "      for k in range(X):\r\n",
        "        heads = 0\r\n",
        "        if grid[j][k] == conductor: #if conductor and next to head -> \r\n",
        "          testlist = checkadjacent(j,k, \"\")\r\n",
        "          if electron_head in testlist or inpoot in testlist:\r\n",
        "            grid2[j][k] = "
      ],
      "execution_count": null,
      "outputs": [
        {
          "output_type": "display_data",
          "data": {
            "application/javascript": [
              "\n",
              "  for (rule of document.styleSheets[0].cssRules){\n",
              "    if (rule.selectorText=='body') {\n",
              "      rule.style.fontSize = '7px'\n",
              "      break\n",
              "    }\n",
              "  }\n",
              "  "
            ],
            "text/plain": [
              "<IPython.core.display.Javascript object>"
            ]
          },
          "metadata": {
            "tags": []
          }
        },
        {
          "output_type": "display_data",
          "data": {
            "application/javascript": [
              "\n",
              "  for (rule of document.styleSheets[0].cssRules){\n",
              "    if (rule.selectorText=='body') {\n",
              "      rule.style.fontSize = '7px'\n",
              "      break\n",
              "    }\n",
              "  }\n",
              "  "
            ],
            "text/plain": [
              "<IPython.core.display.Javascript object>"
            ]
          },
          "metadata": {
            "tags": []
          }
        },
        {
          "output_type": "display_data",
          "data": {
            "application/javascript": [
              "\n",
              "  for (rule of document.styleSheets[0].cssRules){\n",
              "    if (rule.selectorText=='body') {\n",
              "      rule.style.fontSize = '7px'\n",
              "      break\n",
              "    }\n",
              "  }\n",
              "  "
            ],
            "text/plain": [
              "<IPython.core.display.Javascript object>"
            ]
          },
          "metadata": {
            "tags": []
          }
        },
        {
          "output_type": "display_data",
          "data": {
            "application/javascript": [
              "\n",
              "  for (rule of document.styleSheets[0].cssRules){\n",
              "    if (rule.selectorText=='body') {\n",
              "      rule.style.fontSize = '7px'\n",
              "      break\n",
              "    }\n",
              "  }\n",
              "  "
            ],
            "text/plain": [
              "<IPython.core.display.Javascript object>"
            ]
          },
          "metadata": {
            "tags": []
          }
        },
        {
          "output_type": "display_data",
          "data": {
            "application/javascript": [
              "\n",
              "  for (rule of document.styleSheets[0].cssRules){\n",
              "    if (rule.selectorText=='body') {\n",
              "      rule.style.fontSize = '7px'\n",
              "      break\n",
              "    }\n",
              "  }\n",
              "  "
            ],
            "text/plain": [
              "<IPython.core.display.Javascript object>"
            ]
          },
          "metadata": {
            "tags": []
          }
        },
        {
          "output_type": "error",
          "ename": "IndentationError",
          "evalue": "ignored",
          "traceback": [
            "\u001b[0;36m  File \u001b[0;32m\"<ipython-input-18-171d8fe0605c>\"\u001b[0;36m, line \u001b[0;32m16\u001b[0m\n\u001b[0;31m    for j in range(Y): #IF I electron tail\u001b[0m\n\u001b[0m                                          ^\u001b[0m\n\u001b[0;31mIndentationError\u001b[0m\u001b[0;31m:\u001b[0m unindent does not match any outer indentation level\n"
          ]
        }
      ]
    },
    {
      "cell_type": "code",
      "metadata": {
        "id": "adw5qeWnP_A-",
        "colab": {
          "base_uri": "https://localhost:8080/",
          "height": 315
        },
        "outputId": "13182d44-2757-4ac9-bb8f-21fde2428497"
      },
      "source": [
        "#demomap load \n",
        "Y = 36\n",
        "X = 36\n",
        "load_pattern(\"/content/drive/MyDrive/Colab Notebooks/pixelproject/Patterns/life_demo.png\")#TODO see if u can use google drive urls instead.\n",
        "frameprint() \n"
      ],
      "execution_count": null,
      "outputs": [
        {
          "output_type": "display_data",
          "data": {
            "application/javascript": [
              "\n",
              "  for (rule of document.styleSheets[0].cssRules){\n",
              "    if (rule.selectorText=='body') {\n",
              "      rule.style.fontSize = '7px'\n",
              "      break\n",
              "    }\n",
              "  }\n",
              "  "
            ],
            "text/plain": [
              "<IPython.core.display.Javascript object>"
            ]
          },
          "metadata": {
            "tags": []
          }
        },
        {
          "output_type": "display_data",
          "data": {
            "application/javascript": [
              "\n",
              "  for (rule of document.styleSheets[0].cssRules){\n",
              "    if (rule.selectorText=='body') {\n",
              "      rule.style.fontSize = '7px'\n",
              "      break\n",
              "    }\n",
              "  }\n",
              "  "
            ],
            "text/plain": [
              "<IPython.core.display.Javascript object>"
            ]
          },
          "metadata": {
            "tags": []
          }
        },
        {
          "output_type": "display_data",
          "data": {
            "application/javascript": [
              "\n",
              "  for (rule of document.styleSheets[0].cssRules){\n",
              "    if (rule.selectorText=='body') {\n",
              "      rule.style.fontSize = '7px'\n",
              "      break\n",
              "    }\n",
              "  }\n",
              "  "
            ],
            "text/plain": [
              "<IPython.core.display.Javascript object>"
            ]
          },
          "metadata": {
            "tags": []
          }
        },
        {
          "output_type": "display_data",
          "data": {
            "application/javascript": [
              "\n",
              "  for (rule of document.styleSheets[0].cssRules){\n",
              "    if (rule.selectorText=='body') {\n",
              "      rule.style.fontSize = '7px'\n",
              "      break\n",
              "    }\n",
              "  }\n",
              "  "
            ],
            "text/plain": [
              "<IPython.core.display.Javascript object>"
            ]
          },
          "metadata": {
            "tags": []
          }
        },
        {
          "output_type": "display_data",
          "data": {
            "application/javascript": [
              "\n",
              "  for (rule of document.styleSheets[0].cssRules){\n",
              "    if (rule.selectorText=='body') {\n",
              "      rule.style.fontSize = '7px'\n",
              "      break\n",
              "    }\n",
              "  }\n",
              "  "
            ],
            "text/plain": [
              "<IPython.core.display.Javascript object>"
            ]
          },
          "metadata": {
            "tags": []
          }
        },
        {
          "output_type": "stream",
          "text": [
            "\u001b[40m  \u001b[40m  \u001b[40m  \u001b[40m  \u001b[40m  \u001b[40m  \u001b[40m  \u001b[40m  \u001b[40m  \u001b[40m  \u001b[40m  \u001b[40m  \u001b[40m  \u001b[40m  \u001b[40m  \u001b[40m  \u001b[40m  \u001b[40m  \u001b[40m  \u001b[40m  \u001b[40m  \u001b[40m  \u001b[40m  \u001b[40m  \u001b[40m  \u001b[40m  \u001b[40m  \u001b[40m  \u001b[40m  \u001b[40m  \u001b[40m  \u001b[40m  \u001b[40m  \u001b[40m  \u001b[40m  \u001b[40m  \n",
            "\u001b[40m  \u001b[40m  \u001b[40m  \u001b[40m  \u001b[40m  \u001b[40m  \u001b[40m  \u001b[40m  \u001b[40m  \u001b[40m  \u001b[40m  \u001b[40m  \u001b[40m  \u001b[40m  \u001b[40m  \u001b[40m  \u001b[40m  \u001b[40m  \u001b[40m  \u001b[40m  \u001b[40m  \u001b[40m  \u001b[40m  \u001b[40m  \u001b[40m  \u001b[40m  \u001b[40m  \u001b[40m  \u001b[40m  \u001b[40m  \u001b[40m  \u001b[40m  \u001b[40m  \u001b[40m  \u001b[40m  \u001b[40m  \n",
            "\u001b[40m  \u001b[40m  \u001b[40m  \u001b[40m  \u001b[40m  \u001b[40m  \u001b[40m  \u001b[40m  \u001b[40m  \u001b[40m  \u001b[40m  \u001b[40m  \u001b[40m  \u001b[40m  \u001b[40m  \u001b[40m  \u001b[40m  \u001b[40m  \u001b[40m  \u001b[40m  \u001b[40m  \u001b[40m  \u001b[40m  \u001b[40m  \u001b[40m  \u001b[40m  \u001b[40m  \u001b[40m  \u001b[40m  \u001b[40m  \u001b[40m  \u001b[40m  \u001b[40m  \u001b[40m  \u001b[40m  \u001b[40m  \n",
            "\u001b[40m  \u001b[40m  \u001b[40m  \u001b[40m  \u001b[40m  \u001b[40m  \u001b[40m  \u001b[40m  \u001b[40m  \u001b[40m  \u001b[40m  \u001b[40m  \u001b[40m  \u001b[40m  \u001b[40m  \u001b[40m  \u001b[40m  \u001b[40m  \u001b[40m  \u001b[40m  \u001b[40m  \u001b[40m  \u001b[40m  \u001b[40m  \u001b[40m  \u001b[40m  \u001b[40m  \u001b[40m  \u001b[40m  \u001b[40m  \u001b[40m  \u001b[40m  \u001b[40m  \u001b[40m  \u001b[40m  \u001b[40m  \n",
            "\u001b[40m  \u001b[40m  \u001b[40m  \u001b[40m  \u001b[40m  \u001b[40m  \u001b[40m  \u001b[40m  \u001b[40m  \u001b[40m  \u001b[40m  \u001b[40m  \u001b[40m  \u001b[40m  \u001b[40m  \u001b[40m  \u001b[40m  \u001b[40m  \u001b[40m  \u001b[40m  \u001b[40m  \u001b[40m  \u001b[40m  \u001b[40m  \u001b[40m  \u001b[40m  \u001b[40m  \u001b[40m  \u001b[40m  \u001b[40m  \u001b[40m  \u001b[40m  \u001b[40m  \u001b[40m  \u001b[40m  \u001b[40m  \n",
            "\u001b[40m  \u001b[40m  \u001b[40m  \u001b[40m  \u001b[40m  \u001b[40m  \u001b[40m  \u001b[40m  \u001b[40m  \u001b[40m  \u001b[40m  \u001b[40m  \u001b[40m  \u001b[40m  \u001b[40m  \u001b[40m  \u001b[40m  \u001b[40m  \u001b[40m  \u001b[40m  \u001b[40m  \u001b[40m  \u001b[40m  \u001b[40m  \u001b[40m  \u001b[40m  \u001b[40m  \u001b[40m  \u001b[40m  \u001b[40m  \u001b[40m  \u001b[40m  \u001b[40m  \u001b[40m  \u001b[40m  \u001b[40m  \n",
            "\u001b[40m  \u001b[40m  \u001b[40m  \u001b[40m  \u001b[40m  \u001b[40m  \u001b[40m  \u001b[40m  \u001b[40m  \u001b[40m  \u001b[107m  \u001b[40m  \u001b[40m  \u001b[40m  \u001b[40m  \u001b[40m  \u001b[40m  \u001b[40m  \u001b[40m  \u001b[40m  \u001b[40m  \u001b[40m  \u001b[40m  \u001b[40m  \u001b[40m  \u001b[40m  \u001b[40m  \u001b[40m  \u001b[40m  \u001b[40m  \u001b[40m  \u001b[40m  \u001b[40m  \u001b[40m  \u001b[40m  \u001b[40m  \n",
            "\u001b[40m  \u001b[40m  \u001b[40m  \u001b[40m  \u001b[40m  \u001b[40m  \u001b[40m  \u001b[40m  \u001b[40m  \u001b[40m  \u001b[107m  \u001b[107m  \u001b[107m  \u001b[107m  \u001b[40m  \u001b[40m  \u001b[40m  \u001b[40m  \u001b[40m  \u001b[40m  \u001b[40m  \u001b[40m  \u001b[40m  \u001b[40m  \u001b[40m  \u001b[40m  \u001b[40m  \u001b[40m  \u001b[40m  \u001b[40m  \u001b[40m  \u001b[40m  \u001b[40m  \u001b[40m  \u001b[40m  \u001b[40m  \n",
            "\u001b[40m  \u001b[40m  \u001b[40m  \u001b[40m  \u001b[40m  \u001b[40m  \u001b[40m  \u001b[40m  \u001b[40m  \u001b[40m  \u001b[40m  \u001b[107m  \u001b[107m  \u001b[107m  \u001b[107m  \u001b[40m  \u001b[40m  \u001b[40m  \u001b[40m  \u001b[40m  \u001b[40m  \u001b[40m  \u001b[40m  \u001b[40m  \u001b[40m  \u001b[107m  \u001b[107m  \u001b[40m  \u001b[40m  \u001b[40m  \u001b[40m  \u001b[40m  \u001b[40m  \u001b[40m  \u001b[40m  \u001b[40m  \n",
            "\u001b[107m  \u001b[107m  \u001b[40m  \u001b[40m  \u001b[40m  \u001b[40m  \u001b[40m  \u001b[40m  \u001b[40m  \u001b[40m  \u001b[40m  \u001b[107m  \u001b[40m  \u001b[40m  \u001b[107m  \u001b[40m  \u001b[40m  \u001b[40m  \u001b[40m  \u001b[40m  \u001b[40m  \u001b[40m  \u001b[40m  \u001b[40m  \u001b[107m  \u001b[40m  \u001b[107m  \u001b[40m  \u001b[40m  \u001b[40m  \u001b[40m  \u001b[40m  \u001b[40m  \u001b[40m  \u001b[40m  \u001b[40m  \n",
            "\u001b[107m  \u001b[107m  \u001b[40m  \u001b[40m  \u001b[40m  \u001b[40m  \u001b[40m  \u001b[40m  \u001b[40m  \u001b[40m  \u001b[40m  \u001b[107m  \u001b[107m  \u001b[107m  \u001b[107m  \u001b[40m  \u001b[40m  \u001b[40m  \u001b[40m  \u001b[40m  \u001b[40m  \u001b[40m  \u001b[40m  \u001b[107m  \u001b[107m  \u001b[107m  \u001b[40m  \u001b[40m  \u001b[40m  \u001b[40m  \u001b[40m  \u001b[40m  \u001b[40m  \u001b[40m  \u001b[107m  \u001b[107m  \n",
            "\u001b[40m  \u001b[40m  \u001b[40m  \u001b[40m  \u001b[40m  \u001b[40m  \u001b[40m  \u001b[40m  \u001b[40m  \u001b[40m  \u001b[107m  \u001b[107m  \u001b[107m  \u001b[107m  \u001b[40m  \u001b[40m  \u001b[40m  \u001b[40m  \u001b[40m  \u001b[40m  \u001b[40m  \u001b[40m  \u001b[107m  \u001b[107m  \u001b[107m  \u001b[40m  \u001b[40m  \u001b[40m  \u001b[40m  \u001b[40m  \u001b[40m  \u001b[40m  \u001b[40m  \u001b[40m  \u001b[107m  \u001b[107m  \n",
            "\u001b[40m  \u001b[40m  \u001b[40m  \u001b[40m  \u001b[40m  \u001b[40m  \u001b[40m  \u001b[40m  \u001b[40m  \u001b[40m  \u001b[107m  \u001b[40m  \u001b[40m  \u001b[40m  \u001b[40m  \u001b[40m  \u001b[40m  \u001b[40m  \u001b[40m  \u001b[40m  \u001b[40m  \u001b[40m  \u001b[40m  \u001b[107m  \u001b[107m  \u001b[107m  \u001b[40m  \u001b[40m  \u001b[40m  \u001b[40m  \u001b[40m  \u001b[40m  \u001b[40m  \u001b[40m  \u001b[40m  \u001b[40m  \n",
            "\u001b[40m  \u001b[40m  \u001b[40m  \u001b[40m  \u001b[40m  \u001b[40m  \u001b[40m  \u001b[40m  \u001b[40m  \u001b[40m  \u001b[40m  \u001b[40m  \u001b[40m  \u001b[40m  \u001b[40m  \u001b[40m  \u001b[40m  \u001b[40m  \u001b[40m  \u001b[40m  \u001b[40m  \u001b[40m  \u001b[40m  \u001b[40m  \u001b[107m  \u001b[40m  \u001b[107m  \u001b[40m  \u001b[40m  \u001b[40m  \u001b[40m  \u001b[40m  \u001b[40m  \u001b[40m  \u001b[40m  \u001b[40m  \n",
            "\u001b[40m  \u001b[40m  \u001b[40m  \u001b[40m  \u001b[40m  \u001b[40m  \u001b[40m  \u001b[40m  \u001b[40m  \u001b[40m  \u001b[40m  \u001b[40m  \u001b[40m  \u001b[40m  \u001b[40m  \u001b[40m  \u001b[40m  \u001b[40m  \u001b[40m  \u001b[40m  \u001b[40m  \u001b[40m  \u001b[40m  \u001b[40m  \u001b[40m  \u001b[107m  \u001b[107m  \u001b[40m  \u001b[40m  \u001b[40m  \u001b[40m  \u001b[40m  \u001b[40m  \u001b[40m  \u001b[40m  \u001b[40m  \n",
            "\u001b[40m  \u001b[40m  \u001b[40m  \u001b[40m  \u001b[40m  \u001b[40m  \u001b[40m  \u001b[40m  \u001b[40m  \u001b[40m  \u001b[40m  \u001b[40m  \u001b[40m  \u001b[40m  \u001b[40m  \u001b[40m  \u001b[40m  \u001b[40m  \u001b[40m  \u001b[40m  \u001b[40m  \u001b[40m  \u001b[40m  \u001b[40m  \u001b[40m  \u001b[40m  \u001b[40m  \u001b[40m  \u001b[40m  \u001b[40m  \u001b[40m  \u001b[40m  \u001b[40m  \u001b[40m  \u001b[40m  \u001b[40m  \n",
            "\u001b[40m  \u001b[40m  \u001b[40m  \u001b[40m  \u001b[40m  \u001b[40m  \u001b[40m  \u001b[40m  \u001b[40m  \u001b[40m  \u001b[40m  \u001b[40m  \u001b[40m  \u001b[40m  \u001b[40m  \u001b[40m  \u001b[40m  \u001b[40m  \u001b[40m  \u001b[40m  \u001b[40m  \u001b[40m  \u001b[40m  \u001b[40m  \u001b[40m  \u001b[40m  \u001b[40m  \u001b[40m  \u001b[40m  \u001b[40m  \u001b[40m  \u001b[40m  \u001b[40m  \u001b[40m  \u001b[40m  \u001b[40m  \n",
            "\u001b[40m  \u001b[40m  \u001b[40m  \u001b[40m  \u001b[107m  \u001b[40m  \u001b[40m  \u001b[40m  \u001b[40m  \u001b[107m  \u001b[40m  \u001b[40m  \u001b[40m  \u001b[40m  \u001b[107m  \u001b[40m  \u001b[40m  \u001b[40m  \u001b[40m  \u001b[40m  \u001b[40m  \u001b[40m  \u001b[40m  \u001b[40m  \u001b[40m  \u001b[40m  \u001b[40m  \u001b[40m  \u001b[40m  \u001b[40m  \u001b[40m  \u001b[40m  \u001b[40m  \u001b[40m  \u001b[40m  \u001b[40m  \n",
            "\u001b[40m  \u001b[40m  \u001b[40m  \u001b[40m  \u001b[107m  \u001b[40m  \u001b[40m  \u001b[40m  \u001b[40m  \u001b[107m  \u001b[40m  \u001b[40m  \u001b[40m  \u001b[40m  \u001b[107m  \u001b[40m  \u001b[40m  \u001b[40m  \u001b[40m  \u001b[40m  \u001b[40m  \u001b[40m  \u001b[40m  \u001b[40m  \u001b[40m  \u001b[40m  \u001b[40m  \u001b[40m  \u001b[40m  \u001b[40m  \u001b[40m  \u001b[40m  \u001b[40m  \u001b[40m  \u001b[40m  \u001b[40m  \n",
            "\u001b[40m  \u001b[40m  \u001b[40m  \u001b[40m  \u001b[107m  \u001b[40m  \u001b[40m  \u001b[40m  \u001b[40m  \u001b[107m  \u001b[40m  \u001b[40m  \u001b[40m  \u001b[40m  \u001b[107m  \u001b[40m  \u001b[40m  \u001b[40m  \u001b[40m  \u001b[40m  \u001b[40m  \u001b[40m  \u001b[40m  \u001b[40m  \u001b[40m  \u001b[40m  \u001b[40m  \u001b[40m  \u001b[40m  \u001b[40m  \u001b[40m  \u001b[40m  \u001b[40m  \u001b[40m  \u001b[40m  \u001b[40m  \n",
            "\u001b[40m  \u001b[40m  \u001b[40m  \u001b[40m  \u001b[40m  \u001b[40m  \u001b[40m  \u001b[40m  \u001b[40m  \u001b[40m  \u001b[40m  \u001b[40m  \u001b[40m  \u001b[40m  \u001b[40m  \u001b[40m  \u001b[40m  \u001b[40m  \u001b[40m  \u001b[40m  \u001b[40m  \u001b[40m  \u001b[40m  \u001b[40m  \u001b[40m  \u001b[40m  \u001b[40m  \u001b[40m  \u001b[40m  \u001b[40m  \u001b[40m  \u001b[40m  \u001b[40m  \u001b[40m  \u001b[40m  \u001b[40m  \n",
            "\u001b[40m  \u001b[40m  \u001b[40m  \u001b[40m  \u001b[40m  \u001b[40m  \u001b[40m  \u001b[40m  \u001b[40m  \u001b[40m  \u001b[40m  \u001b[40m  \u001b[40m  \u001b[40m  \u001b[40m  \u001b[40m  \u001b[40m  \u001b[40m  \u001b[40m  \u001b[40m  \u001b[40m  \u001b[40m  \u001b[40m  \u001b[40m  \u001b[40m  \u001b[40m  \u001b[40m  \u001b[40m  \u001b[40m  \u001b[40m  \u001b[40m  \u001b[40m  \u001b[40m  \u001b[40m  \u001b[40m  \u001b[40m  \n",
            "\u001b[40m  \u001b[40m  \u001b[40m  \u001b[40m  \u001b[107m  \u001b[40m  \u001b[40m  \u001b[40m  \u001b[40m  \u001b[107m  \u001b[40m  \u001b[40m  \u001b[40m  \u001b[40m  \u001b[107m  \u001b[40m  \u001b[40m  \u001b[40m  \u001b[40m  \u001b[40m  \u001b[40m  \u001b[40m  \u001b[40m  \u001b[40m  \u001b[40m  \u001b[40m  \u001b[40m  \u001b[40m  \u001b[40m  \u001b[40m  \u001b[40m  \u001b[40m  \u001b[40m  \u001b[40m  \u001b[40m  \u001b[40m  \n",
            "\u001b[40m  \u001b[40m  \u001b[40m  \u001b[40m  \u001b[107m  \u001b[40m  \u001b[40m  \u001b[40m  \u001b[40m  \u001b[107m  \u001b[40m  \u001b[40m  \u001b[40m  \u001b[40m  \u001b[107m  \u001b[40m  \u001b[40m  \u001b[40m  \u001b[40m  \u001b[40m  \u001b[40m  \u001b[40m  \u001b[40m  \u001b[40m  \u001b[40m  \u001b[40m  \u001b[40m  \u001b[40m  \u001b[40m  \u001b[40m  \u001b[40m  \u001b[40m  \u001b[40m  \u001b[40m  \u001b[40m  \u001b[40m  \n",
            "\u001b[40m  \u001b[40m  \u001b[40m  \u001b[40m  \u001b[107m  \u001b[40m  \u001b[40m  \u001b[40m  \u001b[40m  \u001b[107m  \u001b[40m  \u001b[40m  \u001b[40m  \u001b[40m  \u001b[107m  \u001b[40m  \u001b[40m  \u001b[40m  \u001b[40m  \u001b[40m  \u001b[40m  \u001b[40m  \u001b[40m  \u001b[40m  \u001b[40m  \u001b[40m  \u001b[40m  \u001b[40m  \u001b[40m  \u001b[40m  \u001b[40m  \u001b[40m  \u001b[40m  \u001b[40m  \u001b[40m  \u001b[40m  \n",
            "\u001b[40m  \u001b[40m  \u001b[40m  \u001b[40m  \u001b[40m  \u001b[40m  \u001b[40m  \u001b[40m  \u001b[40m  \u001b[40m  \u001b[40m  \u001b[40m  \u001b[40m  \u001b[40m  \u001b[40m  \u001b[40m  \u001b[40m  \u001b[40m  \u001b[40m  \u001b[40m  \u001b[40m  \u001b[40m  \u001b[40m  \u001b[40m  \u001b[40m  \u001b[40m  \u001b[40m  \u001b[40m  \u001b[40m  \u001b[40m  \u001b[40m  \u001b[40m  \u001b[40m  \u001b[40m  \u001b[40m  \u001b[40m  \n",
            "\u001b[40m  \u001b[40m  \u001b[40m  \u001b[40m  \u001b[40m  \u001b[40m  \u001b[40m  \u001b[40m  \u001b[40m  \u001b[40m  \u001b[40m  \u001b[40m  \u001b[40m  \u001b[40m  \u001b[40m  \u001b[40m  \u001b[40m  \u001b[40m  \u001b[40m  \u001b[40m  \u001b[40m  \u001b[40m  \u001b[40m  \u001b[40m  \u001b[40m  \u001b[40m  \u001b[40m  \u001b[40m  \u001b[40m  \u001b[40m  \u001b[40m  \u001b[40m  \u001b[40m  \u001b[40m  \u001b[40m  \u001b[40m  \n",
            "\u001b[40m  \u001b[40m  \u001b[40m  \u001b[40m  \u001b[107m  \u001b[40m  \u001b[40m  \u001b[40m  \u001b[40m  \u001b[107m  \u001b[40m  \u001b[40m  \u001b[40m  \u001b[40m  \u001b[107m  \u001b[40m  \u001b[40m  \u001b[40m  \u001b[40m  \u001b[40m  \u001b[40m  \u001b[40m  \u001b[40m  \u001b[40m  \u001b[40m  \u001b[40m  \u001b[40m  \u001b[40m  \u001b[40m  \u001b[40m  \u001b[40m  \u001b[40m  \u001b[40m  \u001b[40m  \u001b[40m  \u001b[40m  \n",
            "\u001b[40m  \u001b[40m  \u001b[40m  \u001b[40m  \u001b[107m  \u001b[40m  \u001b[40m  \u001b[40m  \u001b[40m  \u001b[107m  \u001b[40m  \u001b[40m  \u001b[40m  \u001b[40m  \u001b[107m  \u001b[40m  \u001b[40m  \u001b[40m  \u001b[40m  \u001b[40m  \u001b[40m  \u001b[40m  \u001b[40m  \u001b[40m  \u001b[40m  \u001b[40m  \u001b[40m  \u001b[40m  \u001b[40m  \u001b[40m  \u001b[40m  \u001b[40m  \u001b[40m  \u001b[40m  \u001b[40m  \u001b[40m  \n",
            "\u001b[40m  \u001b[40m  \u001b[40m  \u001b[40m  \u001b[107m  \u001b[40m  \u001b[40m  \u001b[40m  \u001b[40m  \u001b[107m  \u001b[40m  \u001b[40m  \u001b[40m  \u001b[40m  \u001b[107m  \u001b[40m  \u001b[40m  \u001b[40m  \u001b[40m  \u001b[40m  \u001b[40m  \u001b[40m  \u001b[40m  \u001b[40m  \u001b[40m  \u001b[40m  \u001b[40m  \u001b[40m  \u001b[40m  \u001b[40m  \u001b[40m  \u001b[40m  \u001b[40m  \u001b[40m  \u001b[40m  \u001b[40m  \n",
            "\u001b[40m  \u001b[40m  \u001b[40m  \u001b[40m  \u001b[40m  \u001b[40m  \u001b[40m  \u001b[40m  \u001b[40m  \u001b[40m  \u001b[40m  \u001b[40m  \u001b[40m  \u001b[40m  \u001b[40m  \u001b[40m  \u001b[40m  \u001b[40m  \u001b[40m  \u001b[40m  \u001b[40m  \u001b[40m  \u001b[40m  \u001b[40m  \u001b[40m  \u001b[40m  \u001b[40m  \u001b[40m  \u001b[40m  \u001b[40m  \u001b[40m  \u001b[40m  \u001b[40m  \u001b[40m  \u001b[40m  \u001b[40m  \n",
            "\u001b[40m  \u001b[40m  \u001b[40m  \u001b[40m  \u001b[40m  \u001b[40m  \u001b[40m  \u001b[40m  \u001b[40m  \u001b[40m  \u001b[40m  \u001b[40m  \u001b[40m  \u001b[40m  \u001b[40m  \u001b[40m  \u001b[40m  \u001b[40m  \u001b[40m  \u001b[40m  \u001b[40m  \u001b[40m  \u001b[40m  \u001b[40m  \u001b[40m  \u001b[40m  \u001b[40m  \u001b[40m  \u001b[40m  \u001b[40m  \u001b[40m  \u001b[40m  \u001b[40m  \u001b[40m  \u001b[40m  \u001b[40m  \n",
            "\u001b[40m  \u001b[40m  \u001b[40m  \u001b[40m  \u001b[107m  \u001b[40m  \u001b[40m  \u001b[40m  \u001b[40m  \u001b[107m  \u001b[40m  \u001b[40m  \u001b[40m  \u001b[40m  \u001b[107m  \u001b[40m  \u001b[40m  \u001b[40m  \u001b[40m  \u001b[40m  \u001b[40m  \u001b[40m  \u001b[40m  \u001b[40m  \u001b[40m  \u001b[40m  \u001b[40m  \u001b[40m  \u001b[40m  \u001b[40m  \u001b[40m  \u001b[40m  \u001b[40m  \u001b[40m  \u001b[40m  \u001b[40m  \n",
            "\u001b[40m  \u001b[40m  \u001b[40m  \u001b[40m  \u001b[107m  \u001b[40m  \u001b[40m  \u001b[40m  \u001b[40m  \u001b[107m  \u001b[40m  \u001b[40m  \u001b[40m  \u001b[40m  \u001b[107m  \u001b[40m  \u001b[40m  \u001b[40m  \u001b[40m  \u001b[40m  \u001b[40m  \u001b[40m  \u001b[40m  \u001b[40m  \u001b[40m  \u001b[40m  \u001b[40m  \u001b[40m  \u001b[40m  \u001b[40m  \u001b[40m  \u001b[40m  \u001b[40m  \u001b[40m  \u001b[40m  \u001b[40m  \n",
            "\u001b[40m  \u001b[40m  \u001b[40m  \u001b[40m  \u001b[107m  \u001b[40m  \u001b[40m  \u001b[40m  \u001b[40m  \u001b[107m  \u001b[40m  \u001b[40m  \u001b[40m  \u001b[40m  \u001b[107m  \u001b[40m  \u001b[40m  \u001b[40m  \u001b[40m  \u001b[40m  \u001b[40m  \u001b[40m  \u001b[40m  \u001b[40m  \u001b[40m  \u001b[40m  \u001b[40m  \u001b[40m  \u001b[40m  \u001b[40m  \u001b[40m  \u001b[40m  \u001b[40m  \u001b[40m  \u001b[40m  \u001b[40m  \n",
            "\u001b[40m  \u001b[40m  \u001b[40m  \u001b[40m  \u001b[40m  \u001b[40m  \u001b[40m  \u001b[40m  \u001b[40m  \u001b[40m  \u001b[40m  \u001b[40m  \u001b[40m  \u001b[40m  \u001b[40m  \u001b[40m  \u001b[40m  \u001b[40m  \u001b[40m  \u001b[40m  \u001b[40m  \u001b[40m  \u001b[40m  \u001b[40m  \u001b[40m  \u001b[40m  \u001b[40m  \u001b[40m  \u001b[40m  \u001b[40m  \u001b[40m  \u001b[40m  \u001b[40m  \u001b[40m  \u001b[40m  \u001b[40m  \n"
          ],
          "name": "stdout"
        }
      ]
    },
    {
      "cell_type": "code",
      "metadata": {
        "id": "3487GCcgtKtw",
        "colab": {
          "base_uri": "https://localhost:8080/",
          "height": 315
        },
        "outputId": "b9ec64b4-b2d7-48d0-ab98-0ef5408af17a"
      },
      "source": [
        "#gameoflife rules\n",
        "def rule_life():\n",
        "  global grid\n",
        "  grid2 = copy.deepcopy(grid)\n",
        "  for j in range(Y): \n",
        "      for k in range(X):\n",
        "        live_nieghbors = 0\n",
        "        if grid[j][k] == Lwhite:\n",
        "          cell_neighbors = checkadjacent(j,k, \"all\" )\n",
        "          for i in cell_neighbors: \n",
        "            if i == Lwhite:    \n",
        "              live_nieghbors = live_nieghbors + 1\n",
        "          if live_nieghbors <= 1:\n",
        "            grid2[j][k] = black\n",
        "          elif live_nieghbors == 2:\n",
        "            grid2[j][k] = Lwhite\n",
        "          elif live_nieghbors == 3:\n",
        "            grid2[j][k] = Lwhite\n",
        "          elif live_nieghbors >= 4:\n",
        "            grid2[j][k] = black\n",
        "          live_nieghbors = 0\n",
        "        elif grid[j][k] == black:\n",
        "          cell_neighbors = checkadjacent(j,k, \"all\" )\n",
        "          for i in cell_neighbors: \n",
        "            if i == Lwhite:    \n",
        "              live_nieghbors = live_nieghbors + 1\n",
        "          if live_nieghbors == 3:\n",
        "            grid2[j][k] = Lwhite\n",
        "        live_nieghbors = 0\n",
        "  grid =  copy.deepcopy(grid2)\n",
        "rule_life()\n",
        "frameprint()"
      ],
      "execution_count": null,
      "outputs": [
        {
          "output_type": "display_data",
          "data": {
            "application/javascript": [
              "\n",
              "  for (rule of document.styleSheets[0].cssRules){\n",
              "    if (rule.selectorText=='body') {\n",
              "      rule.style.fontSize = '7px'\n",
              "      break\n",
              "    }\n",
              "  }\n",
              "  "
            ],
            "text/plain": [
              "<IPython.core.display.Javascript object>"
            ]
          },
          "metadata": {
            "tags": []
          }
        },
        {
          "output_type": "display_data",
          "data": {
            "application/javascript": [
              "\n",
              "  for (rule of document.styleSheets[0].cssRules){\n",
              "    if (rule.selectorText=='body') {\n",
              "      rule.style.fontSize = '7px'\n",
              "      break\n",
              "    }\n",
              "  }\n",
              "  "
            ],
            "text/plain": [
              "<IPython.core.display.Javascript object>"
            ]
          },
          "metadata": {
            "tags": []
          }
        },
        {
          "output_type": "display_data",
          "data": {
            "application/javascript": [
              "\n",
              "  for (rule of document.styleSheets[0].cssRules){\n",
              "    if (rule.selectorText=='body') {\n",
              "      rule.style.fontSize = '7px'\n",
              "      break\n",
              "    }\n",
              "  }\n",
              "  "
            ],
            "text/plain": [
              "<IPython.core.display.Javascript object>"
            ]
          },
          "metadata": {
            "tags": []
          }
        },
        {
          "output_type": "display_data",
          "data": {
            "application/javascript": [
              "\n",
              "  for (rule of document.styleSheets[0].cssRules){\n",
              "    if (rule.selectorText=='body') {\n",
              "      rule.style.fontSize = '7px'\n",
              "      break\n",
              "    }\n",
              "  }\n",
              "  "
            ],
            "text/plain": [
              "<IPython.core.display.Javascript object>"
            ]
          },
          "metadata": {
            "tags": []
          }
        },
        {
          "output_type": "display_data",
          "data": {
            "application/javascript": [
              "\n",
              "  for (rule of document.styleSheets[0].cssRules){\n",
              "    if (rule.selectorText=='body') {\n",
              "      rule.style.fontSize = '7px'\n",
              "      break\n",
              "    }\n",
              "  }\n",
              "  "
            ],
            "text/plain": [
              "<IPython.core.display.Javascript object>"
            ]
          },
          "metadata": {
            "tags": []
          }
        },
        {
          "output_type": "stream",
          "text": [
            "\u001b[40m  \u001b[40m  \u001b[40m  \u001b[40m  \u001b[40m  \u001b[40m  \u001b[40m  \u001b[40m  \u001b[40m  \u001b[40m  \u001b[40m  \u001b[40m  \u001b[40m  \u001b[40m  \u001b[40m  \u001b[40m  \u001b[40m  \u001b[40m  \u001b[40m  \u001b[40m  \u001b[40m  \u001b[40m  \u001b[40m  \u001b[40m  \u001b[40m  \u001b[40m  \u001b[40m  \u001b[40m  \u001b[40m  \u001b[40m  \u001b[40m  \u001b[40m  \u001b[40m  \u001b[40m  \u001b[40m  \u001b[40m  \n",
            "\u001b[40m  \u001b[40m  \u001b[40m  \u001b[40m  \u001b[40m  \u001b[40m  \u001b[40m  \u001b[40m  \u001b[40m  \u001b[40m  \u001b[40m  \u001b[40m  \u001b[40m  \u001b[40m  \u001b[40m  \u001b[40m  \u001b[40m  \u001b[40m  \u001b[40m  \u001b[40m  \u001b[40m  \u001b[40m  \u001b[40m  \u001b[40m  \u001b[40m  \u001b[40m  \u001b[40m  \u001b[40m  \u001b[40m  \u001b[40m  \u001b[40m  \u001b[40m  \u001b[40m  \u001b[40m  \u001b[40m  \u001b[40m  \n",
            "\u001b[40m  \u001b[40m  \u001b[40m  \u001b[40m  \u001b[40m  \u001b[40m  \u001b[40m  \u001b[40m  \u001b[40m  \u001b[40m  \u001b[40m  \u001b[40m  \u001b[40m  \u001b[40m  \u001b[40m  \u001b[40m  \u001b[40m  \u001b[40m  \u001b[40m  \u001b[40m  \u001b[40m  \u001b[40m  \u001b[40m  \u001b[40m  \u001b[40m  \u001b[40m  \u001b[40m  \u001b[40m  \u001b[40m  \u001b[40m  \u001b[40m  \u001b[40m  \u001b[40m  \u001b[40m  \u001b[40m  \u001b[40m  \n",
            "\u001b[40m  \u001b[40m  \u001b[40m  \u001b[40m  \u001b[40m  \u001b[40m  \u001b[40m  \u001b[40m  \u001b[40m  \u001b[40m  \u001b[40m  \u001b[40m  \u001b[40m  \u001b[40m  \u001b[40m  \u001b[40m  \u001b[40m  \u001b[40m  \u001b[40m  \u001b[40m  \u001b[40m  \u001b[40m  \u001b[40m  \u001b[40m  \u001b[40m  \u001b[40m  \u001b[40m  \u001b[40m  \u001b[40m  \u001b[40m  \u001b[40m  \u001b[40m  \u001b[40m  \u001b[40m  \u001b[40m  \u001b[40m  \n",
            "\u001b[40m  \u001b[40m  \u001b[40m  \u001b[40m  \u001b[40m  \u001b[40m  \u001b[40m  \u001b[40m  \u001b[40m  \u001b[40m  \u001b[40m  \u001b[40m  \u001b[40m  \u001b[40m  \u001b[40m  \u001b[40m  \u001b[40m  \u001b[40m  \u001b[40m  \u001b[40m  \u001b[40m  \u001b[40m  \u001b[107m  \u001b[40m  \u001b[40m  \u001b[40m  \u001b[40m  \u001b[40m  \u001b[40m  \u001b[40m  \u001b[40m  \u001b[40m  \u001b[40m  \u001b[40m  \u001b[40m  \u001b[40m  \n",
            "\u001b[40m  \u001b[40m  \u001b[40m  \u001b[40m  \u001b[40m  \u001b[40m  \u001b[40m  \u001b[40m  \u001b[40m  \u001b[40m  \u001b[40m  \u001b[40m  \u001b[40m  \u001b[40m  \u001b[40m  \u001b[40m  \u001b[40m  \u001b[40m  \u001b[40m  \u001b[40m  \u001b[40m  \u001b[40m  \u001b[107m  \u001b[107m  \u001b[40m  \u001b[40m  \u001b[40m  \u001b[40m  \u001b[40m  \u001b[40m  \u001b[40m  \u001b[40m  \u001b[40m  \u001b[40m  \u001b[40m  \u001b[40m  \n",
            "\u001b[40m  \u001b[40m  \u001b[40m  \u001b[40m  \u001b[40m  \u001b[40m  \u001b[40m  \u001b[40m  \u001b[40m  \u001b[40m  \u001b[107m  \u001b[40m  \u001b[107m  \u001b[40m  \u001b[40m  \u001b[40m  \u001b[40m  \u001b[40m  \u001b[40m  \u001b[40m  \u001b[40m  \u001b[107m  \u001b[40m  \u001b[107m  \u001b[40m  \u001b[40m  \u001b[40m  \u001b[40m  \u001b[40m  \u001b[40m  \u001b[40m  \u001b[40m  \u001b[40m  \u001b[40m  \u001b[40m  \u001b[40m  \n",
            "\u001b[40m  \u001b[40m  \u001b[40m  \u001b[40m  \u001b[40m  \u001b[40m  \u001b[40m  \u001b[40m  \u001b[40m  \u001b[40m  \u001b[107m  \u001b[40m  \u001b[40m  \u001b[40m  \u001b[107m  \u001b[40m  \u001b[40m  \u001b[40m  \u001b[40m  \u001b[40m  \u001b[40m  \u001b[40m  \u001b[40m  \u001b[40m  \u001b[40m  \u001b[40m  \u001b[40m  \u001b[40m  \u001b[40m  \u001b[40m  \u001b[40m  \u001b[40m  \u001b[40m  \u001b[40m  \u001b[40m  \u001b[40m  \n",
            "\u001b[40m  \u001b[40m  \u001b[40m  \u001b[40m  \u001b[40m  \u001b[40m  \u001b[40m  \u001b[40m  \u001b[40m  \u001b[40m  \u001b[40m  \u001b[40m  \u001b[40m  \u001b[40m  \u001b[107m  \u001b[40m  \u001b[40m  \u001b[40m  \u001b[40m  \u001b[40m  \u001b[40m  \u001b[40m  \u001b[40m  \u001b[40m  \u001b[40m  \u001b[107m  \u001b[107m  \u001b[40m  \u001b[40m  \u001b[40m  \u001b[40m  \u001b[40m  \u001b[40m  \u001b[40m  \u001b[40m  \u001b[40m  \n",
            "\u001b[107m  \u001b[107m  \u001b[40m  \u001b[40m  \u001b[40m  \u001b[40m  \u001b[40m  \u001b[40m  \u001b[40m  \u001b[40m  \u001b[107m  \u001b[40m  \u001b[40m  \u001b[40m  \u001b[40m  \u001b[107m  \u001b[40m  \u001b[40m  \u001b[40m  \u001b[40m  \u001b[40m  \u001b[40m  \u001b[40m  \u001b[107m  \u001b[40m  \u001b[40m  \u001b[107m  \u001b[40m  \u001b[40m  \u001b[40m  \u001b[40m  \u001b[40m  \u001b[40m  \u001b[40m  \u001b[107m  \u001b[40m  \n",
            "\u001b[107m  \u001b[107m  \u001b[40m  \u001b[40m  \u001b[40m  \u001b[40m  \u001b[40m  \u001b[40m  \u001b[40m  \u001b[40m  \u001b[40m  \u001b[40m  \u001b[40m  \u001b[40m  \u001b[107m  \u001b[40m  \u001b[40m  \u001b[40m  \u001b[40m  \u001b[40m  \u001b[40m  \u001b[40m  \u001b[107m  \u001b[40m  \u001b[40m  \u001b[40m  \u001b[40m  \u001b[40m  \u001b[40m  \u001b[40m  \u001b[107m  \u001b[107m  \u001b[40m  \u001b[40m  \u001b[40m  \u001b[107m  \n",
            "\u001b[40m  \u001b[40m  \u001b[40m  \u001b[40m  \u001b[40m  \u001b[40m  \u001b[40m  \u001b[40m  \u001b[40m  \u001b[40m  \u001b[107m  \u001b[40m  \u001b[40m  \u001b[40m  \u001b[107m  \u001b[40m  \u001b[40m  \u001b[40m  \u001b[40m  \u001b[40m  \u001b[40m  \u001b[40m  \u001b[107m  \u001b[40m  \u001b[40m  \u001b[40m  \u001b[40m  \u001b[40m  \u001b[40m  \u001b[107m  \u001b[40m  \u001b[40m  \u001b[40m  \u001b[40m  \u001b[40m  \u001b[107m  \n",
            "\u001b[40m  \u001b[40m  \u001b[40m  \u001b[40m  \u001b[40m  \u001b[40m  \u001b[40m  \u001b[40m  \u001b[40m  \u001b[40m  \u001b[107m  \u001b[40m  \u001b[107m  \u001b[40m  \u001b[40m  \u001b[40m  \u001b[40m  \u001b[40m  \u001b[40m  \u001b[40m  \u001b[40m  \u001b[40m  \u001b[107m  \u001b[40m  \u001b[40m  \u001b[40m  \u001b[40m  \u001b[40m  \u001b[40m  \u001b[40m  \u001b[107m  \u001b[107m  \u001b[107m  \u001b[107m  \u001b[107m  \u001b[40m  \n",
            "\u001b[40m  \u001b[40m  \u001b[40m  \u001b[40m  \u001b[40m  \u001b[40m  \u001b[40m  \u001b[40m  \u001b[40m  \u001b[40m  \u001b[40m  \u001b[40m  \u001b[40m  \u001b[40m  \u001b[40m  \u001b[40m  \u001b[40m  \u001b[40m  \u001b[40m  \u001b[40m  \u001b[40m  \u001b[40m  \u001b[40m  \u001b[107m  \u001b[40m  \u001b[40m  \u001b[107m  \u001b[40m  \u001b[40m  \u001b[40m  \u001b[40m  \u001b[40m  \u001b[40m  \u001b[40m  \u001b[40m  \u001b[40m  \n",
            "\u001b[40m  \u001b[40m  \u001b[40m  \u001b[40m  \u001b[40m  \u001b[40m  \u001b[40m  \u001b[40m  \u001b[40m  \u001b[40m  \u001b[40m  \u001b[40m  \u001b[40m  \u001b[40m  \u001b[40m  \u001b[40m  \u001b[40m  \u001b[40m  \u001b[40m  \u001b[40m  \u001b[40m  \u001b[40m  \u001b[40m  \u001b[40m  \u001b[40m  \u001b[107m  \u001b[107m  \u001b[40m  \u001b[40m  \u001b[40m  \u001b[40m  \u001b[40m  \u001b[40m  \u001b[40m  \u001b[40m  \u001b[40m  \n",
            "\u001b[40m  \u001b[40m  \u001b[40m  \u001b[40m  \u001b[40m  \u001b[40m  \u001b[40m  \u001b[40m  \u001b[40m  \u001b[40m  \u001b[40m  \u001b[40m  \u001b[40m  \u001b[40m  \u001b[40m  \u001b[40m  \u001b[40m  \u001b[40m  \u001b[40m  \u001b[40m  \u001b[40m  \u001b[40m  \u001b[40m  \u001b[40m  \u001b[40m  \u001b[40m  \u001b[40m  \u001b[40m  \u001b[40m  \u001b[40m  \u001b[40m  \u001b[40m  \u001b[40m  \u001b[40m  \u001b[40m  \u001b[40m  \n",
            "\u001b[40m  \u001b[40m  \u001b[40m  \u001b[40m  \u001b[40m  \u001b[40m  \u001b[40m  \u001b[40m  \u001b[40m  \u001b[40m  \u001b[40m  \u001b[40m  \u001b[40m  \u001b[40m  \u001b[40m  \u001b[40m  \u001b[40m  \u001b[40m  \u001b[40m  \u001b[40m  \u001b[40m  \u001b[40m  \u001b[40m  \u001b[40m  \u001b[40m  \u001b[40m  \u001b[40m  \u001b[40m  \u001b[40m  \u001b[40m  \u001b[40m  \u001b[40m  \u001b[40m  \u001b[40m  \u001b[40m  \u001b[40m  \n",
            "\u001b[40m  \u001b[40m  \u001b[40m  \u001b[40m  \u001b[40m  \u001b[40m  \u001b[40m  \u001b[40m  \u001b[40m  \u001b[40m  \u001b[40m  \u001b[40m  \u001b[40m  \u001b[40m  \u001b[40m  \u001b[40m  \u001b[40m  \u001b[40m  \u001b[40m  \u001b[40m  \u001b[40m  \u001b[40m  \u001b[40m  \u001b[40m  \u001b[40m  \u001b[40m  \u001b[40m  \u001b[40m  \u001b[40m  \u001b[40m  \u001b[40m  \u001b[40m  \u001b[40m  \u001b[40m  \u001b[40m  \u001b[40m  \n",
            "\u001b[40m  \u001b[40m  \u001b[40m  \u001b[107m  \u001b[107m  \u001b[107m  \u001b[40m  \u001b[40m  \u001b[107m  \u001b[107m  \u001b[107m  \u001b[40m  \u001b[40m  \u001b[107m  \u001b[107m  \u001b[107m  \u001b[40m  \u001b[40m  \u001b[40m  \u001b[40m  \u001b[40m  \u001b[40m  \u001b[40m  \u001b[40m  \u001b[40m  \u001b[40m  \u001b[40m  \u001b[40m  \u001b[40m  \u001b[40m  \u001b[40m  \u001b[40m  \u001b[40m  \u001b[40m  \u001b[40m  \u001b[40m  \n",
            "\u001b[40m  \u001b[40m  \u001b[40m  \u001b[40m  \u001b[40m  \u001b[40m  \u001b[40m  \u001b[40m  \u001b[40m  \u001b[40m  \u001b[40m  \u001b[40m  \u001b[40m  \u001b[40m  \u001b[40m  \u001b[40m  \u001b[40m  \u001b[40m  \u001b[40m  \u001b[40m  \u001b[40m  \u001b[40m  \u001b[40m  \u001b[40m  \u001b[40m  \u001b[40m  \u001b[40m  \u001b[40m  \u001b[40m  \u001b[40m  \u001b[40m  \u001b[40m  \u001b[40m  \u001b[40m  \u001b[40m  \u001b[40m  \n",
            "\u001b[40m  \u001b[40m  \u001b[40m  \u001b[40m  \u001b[40m  \u001b[40m  \u001b[40m  \u001b[40m  \u001b[40m  \u001b[40m  \u001b[40m  \u001b[40m  \u001b[40m  \u001b[40m  \u001b[40m  \u001b[40m  \u001b[40m  \u001b[40m  \u001b[40m  \u001b[40m  \u001b[40m  \u001b[40m  \u001b[40m  \u001b[40m  \u001b[40m  \u001b[40m  \u001b[40m  \u001b[40m  \u001b[40m  \u001b[40m  \u001b[40m  \u001b[40m  \u001b[40m  \u001b[40m  \u001b[40m  \u001b[40m  \n",
            "\u001b[40m  \u001b[40m  \u001b[40m  \u001b[40m  \u001b[40m  \u001b[40m  \u001b[40m  \u001b[40m  \u001b[40m  \u001b[40m  \u001b[40m  \u001b[40m  \u001b[40m  \u001b[40m  \u001b[40m  \u001b[40m  \u001b[40m  \u001b[40m  \u001b[40m  \u001b[40m  \u001b[40m  \u001b[40m  \u001b[40m  \u001b[40m  \u001b[40m  \u001b[40m  \u001b[40m  \u001b[40m  \u001b[40m  \u001b[40m  \u001b[40m  \u001b[40m  \u001b[40m  \u001b[40m  \u001b[40m  \u001b[40m  \n",
            "\u001b[40m  \u001b[40m  \u001b[40m  \u001b[40m  \u001b[40m  \u001b[40m  \u001b[40m  \u001b[40m  \u001b[40m  \u001b[40m  \u001b[40m  \u001b[40m  \u001b[40m  \u001b[40m  \u001b[40m  \u001b[40m  \u001b[40m  \u001b[40m  \u001b[40m  \u001b[40m  \u001b[40m  \u001b[40m  \u001b[40m  \u001b[40m  \u001b[40m  \u001b[40m  \u001b[40m  \u001b[40m  \u001b[40m  \u001b[40m  \u001b[40m  \u001b[40m  \u001b[40m  \u001b[40m  \u001b[40m  \u001b[40m  \n",
            "\u001b[40m  \u001b[40m  \u001b[40m  \u001b[107m  \u001b[107m  \u001b[107m  \u001b[40m  \u001b[40m  \u001b[107m  \u001b[107m  \u001b[107m  \u001b[40m  \u001b[40m  \u001b[107m  \u001b[107m  \u001b[107m  \u001b[40m  \u001b[40m  \u001b[40m  \u001b[40m  \u001b[40m  \u001b[40m  \u001b[40m  \u001b[40m  \u001b[40m  \u001b[40m  \u001b[40m  \u001b[40m  \u001b[40m  \u001b[40m  \u001b[40m  \u001b[40m  \u001b[40m  \u001b[40m  \u001b[40m  \u001b[40m  \n",
            "\u001b[40m  \u001b[40m  \u001b[40m  \u001b[40m  \u001b[40m  \u001b[40m  \u001b[40m  \u001b[40m  \u001b[40m  \u001b[40m  \u001b[40m  \u001b[40m  \u001b[40m  \u001b[40m  \u001b[40m  \u001b[40m  \u001b[40m  \u001b[40m  \u001b[40m  \u001b[40m  \u001b[40m  \u001b[40m  \u001b[40m  \u001b[40m  \u001b[40m  \u001b[40m  \u001b[40m  \u001b[40m  \u001b[40m  \u001b[40m  \u001b[40m  \u001b[40m  \u001b[40m  \u001b[40m  \u001b[40m  \u001b[40m  \n",
            "\u001b[40m  \u001b[40m  \u001b[40m  \u001b[40m  \u001b[40m  \u001b[40m  \u001b[40m  \u001b[40m  \u001b[40m  \u001b[40m  \u001b[40m  \u001b[40m  \u001b[40m  \u001b[40m  \u001b[40m  \u001b[40m  \u001b[40m  \u001b[40m  \u001b[40m  \u001b[40m  \u001b[40m  \u001b[40m  \u001b[40m  \u001b[40m  \u001b[40m  \u001b[40m  \u001b[40m  \u001b[40m  \u001b[40m  \u001b[40m  \u001b[40m  \u001b[40m  \u001b[40m  \u001b[40m  \u001b[40m  \u001b[40m  \n",
            "\u001b[40m  \u001b[40m  \u001b[40m  \u001b[40m  \u001b[40m  \u001b[40m  \u001b[40m  \u001b[40m  \u001b[40m  \u001b[40m  \u001b[40m  \u001b[40m  \u001b[40m  \u001b[40m  \u001b[40m  \u001b[40m  \u001b[40m  \u001b[40m  \u001b[40m  \u001b[40m  \u001b[40m  \u001b[40m  \u001b[40m  \u001b[40m  \u001b[40m  \u001b[40m  \u001b[40m  \u001b[40m  \u001b[40m  \u001b[40m  \u001b[40m  \u001b[40m  \u001b[40m  \u001b[40m  \u001b[40m  \u001b[40m  \n",
            "\u001b[40m  \u001b[40m  \u001b[40m  \u001b[40m  \u001b[40m  \u001b[40m  \u001b[40m  \u001b[40m  \u001b[40m  \u001b[40m  \u001b[40m  \u001b[40m  \u001b[40m  \u001b[40m  \u001b[40m  \u001b[40m  \u001b[40m  \u001b[40m  \u001b[40m  \u001b[40m  \u001b[40m  \u001b[40m  \u001b[40m  \u001b[40m  \u001b[40m  \u001b[40m  \u001b[40m  \u001b[40m  \u001b[40m  \u001b[40m  \u001b[40m  \u001b[40m  \u001b[40m  \u001b[40m  \u001b[40m  \u001b[40m  \n",
            "\u001b[40m  \u001b[40m  \u001b[40m  \u001b[107m  \u001b[107m  \u001b[107m  \u001b[40m  \u001b[40m  \u001b[107m  \u001b[107m  \u001b[107m  \u001b[40m  \u001b[40m  \u001b[107m  \u001b[107m  \u001b[107m  \u001b[40m  \u001b[40m  \u001b[40m  \u001b[40m  \u001b[40m  \u001b[40m  \u001b[40m  \u001b[40m  \u001b[40m  \u001b[40m  \u001b[40m  \u001b[40m  \u001b[40m  \u001b[40m  \u001b[40m  \u001b[40m  \u001b[40m  \u001b[40m  \u001b[40m  \u001b[40m  \n",
            "\u001b[40m  \u001b[40m  \u001b[40m  \u001b[40m  \u001b[40m  \u001b[40m  \u001b[40m  \u001b[40m  \u001b[40m  \u001b[40m  \u001b[40m  \u001b[40m  \u001b[40m  \u001b[40m  \u001b[40m  \u001b[40m  \u001b[40m  \u001b[40m  \u001b[40m  \u001b[40m  \u001b[40m  \u001b[40m  \u001b[40m  \u001b[40m  \u001b[40m  \u001b[40m  \u001b[40m  \u001b[40m  \u001b[40m  \u001b[40m  \u001b[40m  \u001b[40m  \u001b[40m  \u001b[40m  \u001b[40m  \u001b[40m  \n",
            "\u001b[40m  \u001b[40m  \u001b[40m  \u001b[40m  \u001b[40m  \u001b[40m  \u001b[40m  \u001b[40m  \u001b[40m  \u001b[40m  \u001b[40m  \u001b[40m  \u001b[40m  \u001b[40m  \u001b[40m  \u001b[40m  \u001b[40m  \u001b[40m  \u001b[40m  \u001b[40m  \u001b[40m  \u001b[40m  \u001b[40m  \u001b[40m  \u001b[40m  \u001b[40m  \u001b[40m  \u001b[40m  \u001b[40m  \u001b[40m  \u001b[40m  \u001b[40m  \u001b[40m  \u001b[40m  \u001b[40m  \u001b[40m  \n",
            "\u001b[40m  \u001b[40m  \u001b[40m  \u001b[40m  \u001b[40m  \u001b[40m  \u001b[40m  \u001b[40m  \u001b[40m  \u001b[40m  \u001b[40m  \u001b[40m  \u001b[40m  \u001b[40m  \u001b[40m  \u001b[40m  \u001b[40m  \u001b[40m  \u001b[40m  \u001b[40m  \u001b[40m  \u001b[40m  \u001b[40m  \u001b[40m  \u001b[40m  \u001b[40m  \u001b[40m  \u001b[40m  \u001b[40m  \u001b[40m  \u001b[40m  \u001b[40m  \u001b[40m  \u001b[40m  \u001b[40m  \u001b[40m  \n",
            "\u001b[40m  \u001b[40m  \u001b[40m  \u001b[40m  \u001b[40m  \u001b[40m  \u001b[40m  \u001b[40m  \u001b[40m  \u001b[40m  \u001b[40m  \u001b[40m  \u001b[40m  \u001b[40m  \u001b[40m  \u001b[40m  \u001b[40m  \u001b[40m  \u001b[40m  \u001b[40m  \u001b[40m  \u001b[40m  \u001b[40m  \u001b[40m  \u001b[40m  \u001b[40m  \u001b[40m  \u001b[40m  \u001b[40m  \u001b[40m  \u001b[40m  \u001b[40m  \u001b[40m  \u001b[40m  \u001b[40m  \u001b[40m  \n",
            "\u001b[40m  \u001b[40m  \u001b[40m  \u001b[107m  \u001b[107m  \u001b[107m  \u001b[40m  \u001b[40m  \u001b[107m  \u001b[107m  \u001b[107m  \u001b[40m  \u001b[40m  \u001b[107m  \u001b[107m  \u001b[107m  \u001b[40m  \u001b[40m  \u001b[40m  \u001b[40m  \u001b[40m  \u001b[40m  \u001b[40m  \u001b[40m  \u001b[40m  \u001b[40m  \u001b[40m  \u001b[40m  \u001b[40m  \u001b[40m  \u001b[40m  \u001b[40m  \u001b[40m  \u001b[40m  \u001b[40m  \u001b[40m  \n",
            "\u001b[40m  \u001b[40m  \u001b[40m  \u001b[40m  \u001b[40m  \u001b[40m  \u001b[40m  \u001b[40m  \u001b[40m  \u001b[40m  \u001b[40m  \u001b[40m  \u001b[40m  \u001b[40m  \u001b[40m  \u001b[40m  \u001b[40m  \u001b[40m  \u001b[40m  \u001b[40m  \u001b[40m  \u001b[40m  \u001b[40m  \u001b[40m  \u001b[40m  \u001b[40m  \u001b[40m  \u001b[40m  \u001b[40m  \u001b[40m  \u001b[40m  \u001b[40m  \u001b[40m  \u001b[40m  \u001b[40m  \u001b[40m  \n",
            "\u001b[40m  \u001b[40m  \u001b[40m  \u001b[40m  \u001b[40m  \u001b[40m  \u001b[40m  \u001b[40m  \u001b[40m  \u001b[40m  \u001b[40m  \u001b[40m  \u001b[40m  \u001b[40m  \u001b[40m  \u001b[40m  \u001b[40m  \u001b[40m  \u001b[40m  \u001b[40m  \u001b[40m  \u001b[40m  \u001b[40m  \u001b[40m  \u001b[40m  \u001b[40m  \u001b[40m  \u001b[40m  \u001b[40m  \u001b[40m  \u001b[40m  \u001b[40m  \u001b[40m  \u001b[40m  \u001b[40m  \u001b[40m  \n"
          ],
          "name": "stdout"
        }
      ]
    },
    {
      "cell_type": "code",
      "metadata": {
        "id": "3QSsQRdgLGa9"
      },
      "source": [
        "#apply a randomgrid pattern and display\n",
        "import random\n",
        "grid = []\n",
        "for j in range(Y):\n",
        "  grid.append([])\n",
        "  for k in range(X):\n",
        "    bumblefrick =  random.randrange(0,len(colors))\n",
        "    grid[j].append(colors[bumblefrick])\n",
        "frameprint()"
      ],
      "execution_count": null,
      "outputs": []
    }
  ]
}